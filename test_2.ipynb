{
 "cells": [
  {
   "cell_type": "markdown",
   "id": "07b37915-c525-4a46-943f-ae661cb4603f",
   "metadata": {},
   "source": [
    "#cupy"
   ]
  },
  {
   "cell_type": "code",
   "execution_count": 79,
   "id": "1e5c2ab6-21ab-4aab-b972-aeeed506285d",
   "metadata": {},
   "outputs": [],
   "source": [
    "import cupy as cp\n",
    "import numpy as np"
   ]
  },
  {
   "cell_type": "code",
   "execution_count": 91,
   "id": "a0140363-abfa-4013-a01b-fd802f032153",
   "metadata": {},
   "outputs": [
    {
     "name": "stdout",
     "output_type": "stream",
     "text": [
      "The array: [[109  43 177 ... 159 250  73]\n",
      " [229 221 201 ... 194  37  32]\n",
      " [ 10  68  20 ... 239   9 224]\n",
      " ...\n",
      " [ 68 118  31 ...  62 168   1]\n",
      " [182   7 141 ... 121  81  72]\n",
      " [143  89 233 ... 183  61  52]]\n",
      "\n",
      "Memery sizr: 64.0 MB\n"
     ]
    }
   ],
   "source": [
    "array_cpu = np.random.randint(0,255, size=(4000,4000)) # cpu array creation in ram\n",
    "\n",
    "print(\"The array:\", array_cpu)\n",
    "print(\"\\nMemery sizr:\", array_cpu.nbytes/1e6, \"MB\")"
   ]
  },
  {
   "cell_type": "code",
   "execution_count": 92,
   "id": "e5147a74-29b7-485a-9c11-3d42131bee34",
   "metadata": {},
   "outputs": [
    {
     "name": "stdout",
     "output_type": "stream",
     "text": [
      "The gpu array: [[109  43 177 ... 159 250  73]\n",
      " [229 221 201 ... 194  37  32]\n",
      " [ 10  68  20 ... 239   9 224]\n",
      " ...\n",
      " [ 68 118  31 ...  62 168   1]\n",
      " [182   7 141 ... 121  81  72]\n",
      " [143  89 233 ... 183  61  52]]\n",
      "CPU times: total: 31.2 ms\n",
      "Wall time: 109 ms\n"
     ]
    }
   ],
   "source": [
    "%%time\n",
    "#sending the array to the gpu vram\n",
    "\n",
    "array_gpu = cp.asarray(array_cpu)\n",
    "\n",
    "print(\"The gpu array:\",array_gpu)\n",
    "\n",
    "#we have sent the array to the gpu"
   ]
  },
  {
   "cell_type": "markdown",
   "id": "cbecc556-77b0-4abc-a2b9-a8a4bb3d0926",
   "metadata": {},
   "source": [
    "first fourier transform"
   ]
  },
  {
   "cell_type": "code",
   "execution_count": 100,
   "id": "480bdedb-d4dd-493b-a656-395ae2333f9c",
   "metadata": {},
   "outputs": [
    {
     "name": "stdout",
     "output_type": "stream",
     "text": [
      "CPU times: total: 78.1 ms\n",
      "Wall time: 349 ms\n"
     ]
    },
    {
     "data": {
      "text/plain": [
       "array([[ 2.03202444e+09     -0.j        ,\n",
       "         2.07410168e+05 -29115.30873688j,\n",
       "        -2.27306906e+05  -2795.3595448j , ...,\n",
       "         1.16844376e+05 +72008.68798133j,\n",
       "        -2.27306906e+05  +2795.3595448j ,\n",
       "         2.07410168e+05 +29115.30873688j],\n",
       "       [ 5.53361005e+04-393086.24518482j,\n",
       "        -8.96043372e+04+234214.04014656j,\n",
       "         8.38105771e+04-247236.80299501j, ...,\n",
       "        -2.24061640e+05-266174.81955591j,\n",
       "        -2.02967285e+05-114947.41075849j,\n",
       "        -2.13543548e+05+320596.7673818j ],\n",
       "       [-2.17245789e+05-213377.45623747j,\n",
       "         1.72381607e+05+192697.67176335j,\n",
       "        -5.84336210e+04+283666.30670998j, ...,\n",
       "         1.42165830e+05 +41149.86496527j,\n",
       "         2.63543326e+05-109229.44643383j,\n",
       "         8.78567990e+04-100444.74197046j],\n",
       "       ...,\n",
       "       [ 3.13694218e+05-219727.06071734j,\n",
       "        -1.03644190e+05-153179.31934279j,\n",
       "         1.08770092e+05+269455.54156163j, ...,\n",
       "        -2.13458114e+05 -22900.30689727j,\n",
       "        -2.74357898e+05+134566.31406861j,\n",
       "        -6.32199515e+04-148335.82789259j],\n",
       "       [-2.17245789e+05+213377.45623747j,\n",
       "         8.78567990e+04+100444.74197046j,\n",
       "         2.63543326e+05+109229.44643383j, ...,\n",
       "         2.84141479e+05 -14481.26340161j,\n",
       "        -5.84336210e+04-283666.30670998j,\n",
       "         1.72381607e+05-192697.67176335j],\n",
       "       [ 5.53361005e+04+393086.24518482j,\n",
       "        -2.13543548e+05-320596.7673818j ,\n",
       "        -2.02967285e+05+114947.41075849j, ...,\n",
       "         4.42418860e+05+138988.81363589j,\n",
       "         8.38105771e+04+247236.80299501j,\n",
       "        -8.96043372e+04-234214.04014656j]])"
      ]
     },
     "execution_count": 100,
     "metadata": {},
     "output_type": "execute_result"
    }
   ],
   "source": [
    "%%time\n",
    "from scipy import fft\n",
    "\n",
    "fft.fftn(array_cpu) # cpu and ram involve"
   ]
  },
  {
   "cell_type": "code",
   "execution_count": 104,
   "id": "c6ed8946-7991-4ec0-ae76-75e2a5007695",
   "metadata": {},
   "outputs": [
    {
     "name": "stdout",
     "output_type": "stream",
     "text": [
      "CPU times: total: 0 ns\n",
      "Wall time: 998 µs\n"
     ]
    },
    {
     "data": {
      "text/plain": [
       "array([[ 2.03202444e+09     +0.j        ,\n",
       "         2.07410168e+05 -29115.30873688j,\n",
       "        -2.27306906e+05  -2795.3595448j , ...,\n",
       "         1.16844376e+05 +72008.68798133j,\n",
       "        -2.27306906e+05  +2795.3595448j ,\n",
       "         2.07410168e+05 +29115.30873688j],\n",
       "       [ 5.53361005e+04-393086.24518482j,\n",
       "        -8.96043372e+04+234214.04014656j,\n",
       "         8.38105771e+04-247236.80299501j, ...,\n",
       "        -2.24061640e+05-266174.81955591j,\n",
       "        -2.02967285e+05-114947.41075849j,\n",
       "        -2.13543548e+05+320596.7673818j ],\n",
       "       [-2.17245789e+05-213377.45623747j,\n",
       "         1.72381607e+05+192697.67176335j,\n",
       "        -5.84336210e+04+283666.30670998j, ...,\n",
       "         1.42165830e+05 +41149.86496527j,\n",
       "         2.63543326e+05-109229.44643383j,\n",
       "         8.78567990e+04-100444.74197046j],\n",
       "       ...,\n",
       "       [ 3.13694218e+05-219727.06071734j,\n",
       "        -1.03644190e+05-153179.31934279j,\n",
       "         1.08770092e+05+269455.54156163j, ...,\n",
       "        -2.13458114e+05 -22900.30689727j,\n",
       "        -2.74357898e+05+134566.31406861j,\n",
       "        -6.32199515e+04-148335.82789259j],\n",
       "       [-2.17245789e+05+213377.45623747j,\n",
       "         8.78567990e+04+100444.74197046j,\n",
       "         2.63543326e+05+109229.44643383j, ...,\n",
       "         2.84141479e+05 -14481.26340161j,\n",
       "        -5.84336210e+04-283666.30670998j,\n",
       "         1.72381607e+05-192697.67176335j],\n",
       "       [ 5.53361005e+04+393086.24518482j,\n",
       "        -2.13543548e+05-320596.7673818j ,\n",
       "        -2.02967285e+05+114947.41075849j, ...,\n",
       "         4.42418860e+05+138988.81363589j,\n",
       "         8.38105771e+04+247236.80299501j,\n",
       "        -8.96043372e+04-234214.04014656j]])"
      ]
     },
     "execution_count": 104,
     "metadata": {},
     "output_type": "execute_result"
    }
   ],
   "source": [
    "%%time\n",
    "from cupyx.scipy import fft as fft_gpu\n",
    "\n",
    "fft_gpu.fftn(array_gpu) # cpu and"
   ]
  },
  {
   "cell_type": "code",
   "execution_count": 111,
   "id": "71d925bd-a751-44e6-8d3a-8181e35bd20d",
   "metadata": {},
   "outputs": [
    {
     "data": {
      "text/plain": [
       "True"
      ]
     },
     "execution_count": 111,
     "metadata": {},
     "output_type": "execute_result"
    }
   ],
   "source": [
    "#communicate host cpu and gpu\n",
    "\n",
    "\n",
    "fft_cpu = fft.fftn(array_cpu)\n",
    "fft_send_back = cp.asnumpy(fft_gpu.fftn(array_gpu))   #sending back to the cpu as numpy array\n",
    "\n",
    "np.allclose(fft_cpu,fft_send_back)    #comparing the array of np and cp\n"
   ]
  },
  {
   "cell_type": "code",
   "execution_count": 114,
   "id": "7503c2d6-457c-4587-acef-ab7cc34bb588",
   "metadata": {},
   "outputs": [],
   "source": [
    "import cupy as cp\n",
    "import numpy as np\n",
    "#at a glance communicating cpu and gpu\n",
    "\n",
    "#step - 1: making a np array\n",
    "array_cpu = np.random.randint(0,255, size=(4000,4000)) # cpu array creation in ram\n",
    "\n",
    "#step - 2: sending the array to the gpu\n",
    "array_gpu = cp.asarray(array_cpu)\n",
    "\n",
    "\n",
    "#step - 3: makig fft with np array in gpu\n",
    "\n",
    "from cupyx.scipy import fft as fft_gpu\n",
    "fft_in_gpu = fft_gpu.fftn(array_gpu)\n",
    "\n",
    "\n",
    "#step - : sending back to the cpu as numpy array\n",
    "fft_send_back = cp.asnumpy(fft_in_gpu)\n"
   ]
  },
  {
   "cell_type": "code",
   "execution_count": null,
   "id": "d1507174-9f8e-4691-86d7-778f58f1e0f9",
   "metadata": {},
   "outputs": [
    {
     "data": {
      "text/plain": [
       "numpy.ndarray"
      ]
     },
     "execution_count": 116,
     "metadata": {},
     "output_type": "execute_result"
    }
   ],
   "source": [
    "type(fft_send_back)"
   ]
  },
  {
   "cell_type": "code",
   "execution_count": 115,
   "id": "0df97861-58f6-4dd5-b09f-983015496f6b",
   "metadata": {},
   "outputs": [
    {
     "data": {
      "text/plain": [
       "True"
      ]
     },
     "execution_count": 115,
     "metadata": {},
     "output_type": "execute_result"
    }
   ],
   "source": [
    "#testing\n",
    "fft_cpu = fft.fftn(array_cpu) #fft on cpu\n",
    "np.allclose(fft_cpu,fft_send_back) "
   ]
  },
  {
   "cell_type": "code",
   "execution_count": 120,
   "id": "ed97af5a-4613-49cb-aaea-822ec3199154",
   "metadata": {},
   "outputs": [
    {
     "name": "stdout",
     "output_type": "stream",
     "text": [
      "[[220 124  75 ...  64 193 183]\n",
      " [225 174 167 ... 196  22 231]\n",
      " [ 58 231  38 ... 222 192 124]\n",
      " ...\n",
      " [ 99  47   9 ... 141 108 186]\n",
      " [162 178  31 ... 117 146 254]\n",
      " [180 125  49 ...  77 243 154]]\n",
      "<class 'numpy.ndarray'>\n"
     ]
    }
   ],
   "source": [
    "#creating array dorect on gpu\n",
    "\n",
    "array_gpu_direct = cp.random.randint(0,255, size=(4000,4000))\n",
    "print(array_gpu_direct)\n",
    "\n",
    "#convert it to numpy\n",
    "array_numpy = cp.asnumpy(array_gpu_direct)\n",
    "\n",
    "print(type(array_numpy))"
   ]
  },
  {
   "cell_type": "markdown",
   "id": "5bdf304d-6563-4f7b-91bc-5cd7202e8e3f",
   "metadata": {},
   "source": [
    "#numba.cuda"
   ]
  },
  {
   "cell_type": "code",
   "execution_count": null,
   "id": "94b5a3cd-5971-4d06-bae8-ee1965f3437f",
   "metadata": {},
   "outputs": [],
   "source": []
  },
  {
   "cell_type": "code",
   "execution_count": null,
   "id": "da41f988-778d-41f4-bf8a-8499a1ecb7cf",
   "metadata": {},
   "outputs": [],
   "source": []
  },
  {
   "cell_type": "code",
   "execution_count": null,
   "id": "d3b9bc39-3060-45a2-8ede-c5a07017438a",
   "metadata": {},
   "outputs": [],
   "source": []
  },
  {
   "cell_type": "code",
   "execution_count": null,
   "id": "ca30c87c-df30-4dbb-938f-b5da54935d2c",
   "metadata": {},
   "outputs": [],
   "source": []
  },
  {
   "cell_type": "code",
   "execution_count": null,
   "id": "6396dcae-dcf1-4a32-b882-920e40dfd463",
   "metadata": {},
   "outputs": [],
   "source": []
  },
  {
   "cell_type": "code",
   "execution_count": null,
   "id": "42bbe6f8-0c6e-48f5-9701-f92f5d907d1a",
   "metadata": {},
   "outputs": [],
   "source": []
  },
  {
   "cell_type": "code",
   "execution_count": null,
   "id": "646febf2-db18-4e5b-a9ae-d12c5d54ef93",
   "metadata": {},
   "outputs": [],
   "source": []
  },
  {
   "cell_type": "code",
   "execution_count": null,
   "id": "197a2c89-18ba-483b-95a3-ea9332e0d2d4",
   "metadata": {},
   "outputs": [],
   "source": []
  },
  {
   "cell_type": "code",
   "execution_count": null,
   "id": "906bd9c0-3216-4aa5-bae7-93e3f4d82c1c",
   "metadata": {},
   "outputs": [],
   "source": []
  },
  {
   "cell_type": "code",
   "execution_count": null,
   "id": "ceb990a2-50d5-45e5-ad84-df2be3a59fe8",
   "metadata": {},
   "outputs": [],
   "source": []
  },
  {
   "cell_type": "code",
   "execution_count": null,
   "id": "1530e5da-47e4-4c53-81b2-ee2099c74cc0",
   "metadata": {},
   "outputs": [],
   "source": []
  },
  {
   "cell_type": "code",
   "execution_count": null,
   "id": "9111d481-d114-4270-a3bf-0f338fba5097",
   "metadata": {},
   "outputs": [],
   "source": []
  },
  {
   "cell_type": "code",
   "execution_count": null,
   "id": "30531d22-6995-4139-9643-051825f7700e",
   "metadata": {},
   "outputs": [],
   "source": []
  },
  {
   "cell_type": "code",
   "execution_count": null,
   "id": "a383d3f6-4032-4558-a8b4-0ca261d2c2db",
   "metadata": {},
   "outputs": [],
   "source": []
  },
  {
   "cell_type": "code",
   "execution_count": null,
   "id": "fdfdc2c1-9000-46de-8f9f-76918832b0c6",
   "metadata": {},
   "outputs": [],
   "source": []
  },
  {
   "cell_type": "code",
   "execution_count": null,
   "id": "ad341d55-06d1-444b-a6be-8893501d51f4",
   "metadata": {},
   "outputs": [],
   "source": []
  },
  {
   "cell_type": "code",
   "execution_count": null,
   "id": "9e2d592d-3c6b-432e-823f-72a433ad8a30",
   "metadata": {},
   "outputs": [],
   "source": []
  },
  {
   "cell_type": "code",
   "execution_count": null,
   "id": "8d9b662f-304b-40ac-b80c-0bd660beaba1",
   "metadata": {},
   "outputs": [],
   "source": []
  },
  {
   "cell_type": "code",
   "execution_count": null,
   "id": "f793fd90-ec6e-4205-aa30-2192fa8b8b97",
   "metadata": {},
   "outputs": [],
   "source": []
  },
  {
   "cell_type": "code",
   "execution_count": 70,
   "id": "eb5ee7a8-29c2-48ad-833d-e2f4853c94cf",
   "metadata": {},
   "outputs": [],
   "source": [
    "# Importing NumPy\n",
    "import numpy as np  \n",
    "\n",
    "# Using numpy.random.rand() to generate an array of random numbers of size (2, 2)\n",
    "random_array1 = np.random.rand(N)\n",
    "radnom_array2 = np.random.rand(N)\n"
   ]
  },
  {
   "cell_type": "code",
   "execution_count": 71,
   "id": "838c04ae-df35-4fb7-9b10-2855cfb5e8ad",
   "metadata": {},
   "outputs": [],
   "source": [
    "ans =[]\n",
    "for i in range(random_array1.size):\n",
    "    ans.append(random_array1[i]*radnom_array2[i]) \n",
    "    "
   ]
  },
  {
   "cell_type": "code",
   "execution_count": 55,
   "id": "fe7b7336-6970-46f1-a912-164f50c473ca",
   "metadata": {},
   "outputs": [
    {
     "name": "stdout",
     "output_type": "stream",
     "text": [
      "[0.049600174945875306, 0.04836575691397883, 0.0945811000522485, 0.19367070304946155, 0.2378207232994692, 0.015235294144712138, 0.04440892620195568, 0.017134004732664118, 0.056112696600885296, 0.02405702963315841, 0.1056482713860908, 0.5803322458977875, 0.3410060045419952, 0.8611443092637028, 0.22747057129413334, 0.10556723627977306, 0.11142799645355056, 0.31009838020032765, 0.014251867605170297, 0.09864654439669371, 0.2625767947646237, 0.04259395296053167, 0.26944149160866504, 0.6945953187058631, 0.1636652707965866, 0.5334470112128289, 0.6621028441820781, 0.2600436013013477, 0.3886417266075598, 0.5023589670127603]\n"
     ]
    }
   ],
   "source": [
    "print(ans)"
   ]
  },
  {
   "cell_type": "code",
   "execution_count": 37,
   "id": "b9e20844-307c-4bcb-b98d-94ab87f03bd3",
   "metadata": {},
   "outputs": [
    {
     "name": "stdout",
     "output_type": "stream",
     "text": [
      "Testing git\n"
     ]
    }
   ],
   "source": [
    "print(\"Testing git\")"
   ]
  },
  {
   "cell_type": "code",
   "execution_count": null,
   "id": "4319a10c-6eac-4840-9fd6-4616ea065d87",
   "metadata": {},
   "outputs": [],
   "source": []
  }
 ],
 "metadata": {
  "kernelspec": {
   "display_name": "Python 3 (ipykernel)",
   "language": "python",
   "name": "python3"
  },
  "language_info": {
   "codemirror_mode": {
    "name": "ipython",
    "version": 3
   },
   "file_extension": ".py",
   "mimetype": "text/x-python",
   "name": "python",
   "nbconvert_exporter": "python",
   "pygments_lexer": "ipython3",
   "version": "3.9.15"
  }
 },
 "nbformat": 4,
 "nbformat_minor": 5
}
