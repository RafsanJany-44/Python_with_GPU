{
 "cells": [
  {
   "cell_type": "markdown",
   "id": "916532ff-6c86-417d-8e06-5d9576bacfcf",
   "metadata": {},
   "source": [
    "#Multiplication gains"
   ]
  },
  {
   "cell_type": "code",
   "execution_count": 1,
   "id": "94b2d786-600c-4da3-b729-882f44f840dc",
   "metadata": {},
   "outputs": [],
   "source": [
    "import numpy as np"
   ]
  },
  {
   "cell_type": "code",
   "execution_count": 29,
   "id": "1c7e8b39-d545-4eb6-b897-0371953447ba",
   "metadata": {},
   "outputs": [],
   "source": [
    "def MV(a,b,c):\n",
    "    for i in range(a.size):\n",
    "        c[i] = a[i]*b[i]\n",
    "\n",
    "    "
   ]
  },
  {
   "cell_type": "code",
   "execution_count": 30,
   "id": "c18c93e5-069b-4d5d-9f3a-a7048f2a0964",
   "metadata": {},
   "outputs": [],
   "source": [
    "N = 64000000\n",
    "\n",
    "A = np.ones(N, dtype = np.float32)\n",
    "B = np.ones(N, dtype = np.float32)\n",
    "C = np.ones(N, dtype = np.float32)"
   ]
  },
  {
   "cell_type": "code",
   "execution_count": 32,
   "id": "546c6b69-6d2c-4a98-b991-dcb01a43b66c",
   "metadata": {},
   "outputs": [
    {
     "name": "stdout",
     "output_type": "stream",
     "text": [
      "CPU times: total: 2.3 s\n",
      "Wall time: 9.5 s\n"
     ]
    }
   ],
   "source": [
    "%%time\n",
    "\n",
    "MV(A,B,C)"
   ]
  },
  {
   "cell_type": "code",
   "execution_count": 35,
   "id": "eb5ee7a8-29c2-48ad-833d-e2f4853c94cf",
   "metadata": {},
   "outputs": [
    {
     "name": "stdout",
     "output_type": "stream",
     "text": [
      "[[0.07917845 0.83713923 0.802088  ]]\n"
     ]
    }
   ],
   "source": [
    "# Importing NumPy\n",
    "import numpy as np  \n",
    "\n",
    "# Using numpy.random.rand() to generate an array of random numbers of size (2, 2)\n",
    "random_array = np.random.rand(1, 3)  \n",
    "\n",
    "print(random_array)"
   ]
  },
  {
   "cell_type": "code",
   "execution_count": null,
   "id": "b9e20844-307c-4bcb-b98d-94ab87f03bd3",
   "metadata": {},
   "outputs": [],
   "source": []
  },
  {
   "cell_type": "code",
   "execution_count": null,
   "id": "4319a10c-6eac-4840-9fd6-4616ea065d87",
   "metadata": {},
   "outputs": [],
   "source": []
  }
 ],
 "metadata": {
  "kernelspec": {
   "display_name": "Python 3 (ipykernel)",
   "language": "python",
   "name": "python3"
  },
  "language_info": {
   "codemirror_mode": {
    "name": "ipython",
    "version": 3
   },
   "file_extension": ".py",
   "mimetype": "text/x-python",
   "name": "python",
   "nbconvert_exporter": "python",
   "pygments_lexer": "ipython3",
   "version": "3.9.15"
  }
 },
 "nbformat": 4,
 "nbformat_minor": 5
}
