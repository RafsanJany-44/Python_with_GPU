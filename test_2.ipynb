{
 "cells": [
  {
   "cell_type": "markdown",
   "id": "07b37915-c525-4a46-943f-ae661cb4603f",
   "metadata": {},
   "source": [
    "#cupy"
   ]
  },
  {
   "cell_type": "code",
   "execution_count": 1,
   "id": "1e5c2ab6-21ab-4aab-b972-aeeed506285d",
   "metadata": {},
   "outputs": [
    {
     "ename": "ModuleNotFoundError",
     "evalue": "No module named 'cupy'",
     "output_type": "error",
     "traceback": [
      "\u001b[1;31m---------------------------------------------------------------------------\u001b[0m",
      "\u001b[1;31mModuleNotFoundError\u001b[0m                       Traceback (most recent call last)",
      "\u001b[1;32m~\\AppData\\Local\\Temp\\ipykernel_42652\\1413671387.py\u001b[0m in \u001b[0;36m<module>\u001b[1;34m\u001b[0m\n\u001b[1;32m----> 1\u001b[1;33m \u001b[1;32mimport\u001b[0m \u001b[0mcupy\u001b[0m \u001b[1;32mas\u001b[0m \u001b[0mcp\u001b[0m\u001b[1;33m\u001b[0m\u001b[1;33m\u001b[0m\u001b[0m\n\u001b[0m\u001b[0;32m      2\u001b[0m \u001b[1;32mimport\u001b[0m \u001b[0mnumpy\u001b[0m \u001b[1;32mas\u001b[0m \u001b[0mnp\u001b[0m\u001b[1;33m\u001b[0m\u001b[1;33m\u001b[0m\u001b[0m\n",
      "\u001b[1;31mModuleNotFoundError\u001b[0m: No module named 'cupy'"
     ]
    }
   ],
   "source": [
    "import cupy as cp\n",
    "import numpy as np"
   ]
  },
  {
   "cell_type": "code",
   "execution_count": 3,
   "id": "a0140363-abfa-4013-a01b-fd802f032153",
   "metadata": {},
   "outputs": [
    {
     "name": "stdout",
     "output_type": "stream",
     "text": [
      "The array: [[218  33 177 ... 167  53 239]\n",
      " [173  12 178 ...  36  84  98]\n",
      " [224  42 199 ... 157 215 120]\n",
      " ...\n",
      " [217  77 179 ... 183 251 171]\n",
      " [253 233 189 ... 207 110 135]\n",
      " [107  12  59 ... 128 144  22]]\n",
      "\n",
      "Memery sizr: 64.0 MB\n"
     ]
    }
   ],
   "source": [
    "array_cpu = np.random.randint(0,255, size=(4000,4000)) # cpu array creation in ram\n",
    "\n",
    "print(\"The array:\", array_cpu)\n",
    "print(\"\\nMemery sizr:\", array_cpu.nbytes/1e6, \"MB\")"
   ]
  },
  {
   "cell_type": "code",
   "execution_count": 4,
   "id": "e5147a74-29b7-485a-9c11-3d42131bee34",
   "metadata": {},
   "outputs": [
    {
     "name": "stdout",
     "output_type": "stream",
     "text": [
      "The gpu array: [[218  33 177 ... 167  53 239]\n",
      " [173  12 178 ...  36  84  98]\n",
      " [224  42 199 ... 157 215 120]\n",
      " ...\n",
      " [217  77 179 ... 183 251 171]\n",
      " [253 233 189 ... 207 110 135]\n",
      " [107  12  59 ... 128 144  22]]\n",
      "CPU times: total: 62.5 ms\n",
      "Wall time: 1.75 s\n"
     ]
    }
   ],
   "source": [
    "%%time\n",
    "#sending the array to the gpu vram\n",
    "\n",
    "array_gpu = cp.asarray(array_cpu)\n",
    "\n",
    "print(\"The gpu array:\",array_gpu)\n",
    "\n",
    "#we have sent the array to the gpu"
   ]
  },
  {
   "cell_type": "markdown",
   "id": "cbecc556-77b0-4abc-a2b9-a8a4bb3d0926",
   "metadata": {},
   "source": [
    "first fourier transform"
   ]
  },
  {
   "cell_type": "code",
   "execution_count": 5,
   "id": "480bdedb-d4dd-493b-a656-395ae2333f9c",
   "metadata": {},
   "outputs": [
    {
     "name": "stdout",
     "output_type": "stream",
     "text": [
      "CPU times: total: 93.8 ms\n",
      "Wall time: 344 ms\n"
     ]
    },
    {
     "data": {
      "text/plain": [
       "array([[ 2.03161333e+09     -0.j        ,\n",
       "         3.26548938e+05-411655.66627035j,\n",
       "        -1.58664517e+05+273442.56370014j, ...,\n",
       "        -3.54724838e+05+424610.75696368j,\n",
       "        -1.58664517e+05-273442.56370014j,\n",
       "         3.26548938e+05+411655.66627035j],\n",
       "       [-6.84232234e+03 +91117.92881636j,\n",
       "         3.88697521e+05  -7645.73087923j,\n",
       "         1.88184333e+05-170086.70233574j, ...,\n",
       "        -3.77972949e+05+585784.96221418j,\n",
       "        -9.41504408e+03 -17848.68004571j,\n",
       "         3.05083456e+05 +23540.52055203j],\n",
       "       [ 1.29028490e+05 +61145.18571746j,\n",
       "        -1.74482497e+05 +19081.47777539j,\n",
       "         3.90909867e+05+130302.86869298j, ...,\n",
       "        -9.03565673e+04+255467.82583395j,\n",
       "        -1.72915188e+05 +26230.85404958j,\n",
       "        -6.28739748e+04 +23256.5041305j ],\n",
       "       ...,\n",
       "       [ 1.90172388e+05-118837.91090766j,\n",
       "        -2.28429400e+05   -787.99787896j,\n",
       "         3.68128488e+04 -76498.38303831j, ...,\n",
       "        -3.03387712e+05 +93476.3828688j ,\n",
       "         4.25460286e+04 -84663.51550928j,\n",
       "         2.14480477e+05-135803.59708905j],\n",
       "       [ 1.29028490e+05 -61145.18571746j,\n",
       "        -6.28739748e+04 -23256.5041305j ,\n",
       "        -1.72915188e+05 -26230.85404958j, ...,\n",
       "        -5.36717752e+04+555297.04985961j,\n",
       "         3.90909867e+05-130302.86869298j,\n",
       "        -1.74482497e+05 -19081.47777539j],\n",
       "       [-6.84232234e+03 -91117.92881636j,\n",
       "         3.05083456e+05 -23540.52055203j,\n",
       "        -9.41504408e+03 +17848.68004571j, ...,\n",
       "         1.99568820e+05 -19486.67459783j,\n",
       "         1.88184333e+05+170086.70233574j,\n",
       "         3.88697521e+05  +7645.73087923j]])"
      ]
     },
     "execution_count": 5,
     "metadata": {},
     "output_type": "execute_result"
    }
   ],
   "source": [
    "%%time\n",
    "from scipy import fft\n",
    "\n",
    "fft.fftn(array_cpu) # cpu and ram involve"
   ]
  },
  {
   "cell_type": "code",
   "execution_count": 6,
   "id": "c6ed8946-7991-4ec0-ae76-75e2a5007695",
   "metadata": {},
   "outputs": [
    {
     "name": "stdout",
     "output_type": "stream",
     "text": [
      "CPU times: total: 156 ms\n",
      "Wall time: 468 ms\n"
     ]
    },
    {
     "data": {
      "text/plain": [
       "array([[ 2.03161333e+09     +0.j        ,\n",
       "         3.26548938e+05-411655.66627035j,\n",
       "        -1.58664517e+05+273442.56370014j, ...,\n",
       "        -3.54724838e+05+424610.75696368j,\n",
       "        -1.58664517e+05-273442.56370014j,\n",
       "         3.26548938e+05+411655.66627035j],\n",
       "       [-6.84232234e+03 +91117.92881636j,\n",
       "         3.88697521e+05  -7645.73087923j,\n",
       "         1.88184333e+05-170086.70233574j, ...,\n",
       "        -3.77972949e+05+585784.96221418j,\n",
       "        -9.41504408e+03 -17848.68004571j,\n",
       "         3.05083456e+05 +23540.52055203j],\n",
       "       [ 1.29028490e+05 +61145.18571746j,\n",
       "        -1.74482497e+05 +19081.47777539j,\n",
       "         3.90909867e+05+130302.86869298j, ...,\n",
       "        -9.03565673e+04+255467.82583395j,\n",
       "        -1.72915188e+05 +26230.85404958j,\n",
       "        -6.28739748e+04 +23256.5041305j ],\n",
       "       ...,\n",
       "       [ 1.90172388e+05-118837.91090766j,\n",
       "        -2.28429400e+05   -787.99787896j,\n",
       "         3.68128488e+04 -76498.38303831j, ...,\n",
       "        -3.03387712e+05 +93476.3828688j ,\n",
       "         4.25460286e+04 -84663.51550928j,\n",
       "         2.14480477e+05-135803.59708905j],\n",
       "       [ 1.29028490e+05 -61145.18571746j,\n",
       "        -6.28739748e+04 -23256.5041305j ,\n",
       "        -1.72915188e+05 -26230.85404958j, ...,\n",
       "        -5.36717752e+04+555297.04985961j,\n",
       "         3.90909867e+05-130302.86869298j,\n",
       "        -1.74482497e+05 -19081.47777539j],\n",
       "       [-6.84232234e+03 -91117.92881636j,\n",
       "         3.05083456e+05 -23540.52055203j,\n",
       "        -9.41504408e+03 +17848.68004571j, ...,\n",
       "         1.99568820e+05 -19486.67459783j,\n",
       "         1.88184333e+05+170086.70233574j,\n",
       "         3.88697521e+05  +7645.73087923j]])"
      ]
     },
     "execution_count": 6,
     "metadata": {},
     "output_type": "execute_result"
    }
   ],
   "source": [
    "%%time\n",
    "from cupyx.scipy import fft as fft_gpu\n",
    "\n",
    "fft_gpu.fftn(array_gpu) # cpu and"
   ]
  },
  {
   "cell_type": "code",
   "execution_count": 7,
   "id": "71d925bd-a751-44e6-8d3a-8181e35bd20d",
   "metadata": {},
   "outputs": [
    {
     "data": {
      "text/plain": [
       "True"
      ]
     },
     "execution_count": 7,
     "metadata": {},
     "output_type": "execute_result"
    }
   ],
   "source": [
    "#communicate host cpu and gpu\n",
    "\n",
    "\n",
    "fft_cpu = fft.fftn(array_cpu)\n",
    "fft_send_back = cp.asnumpy(fft_gpu.fftn(array_gpu))   #sending back to the cpu as numpy array\n",
    "\n",
    "np.allclose(fft_cpu,fft_send_back)    #comparing the array of np and cp\n"
   ]
  },
  {
   "cell_type": "code",
   "execution_count": 8,
   "id": "7503c2d6-457c-4587-acef-ab7cc34bb588",
   "metadata": {},
   "outputs": [],
   "source": [
    "import cupy as cp\n",
    "import numpy as np\n",
    "#at a glance communicating cpu and gpu\n",
    "\n",
    "#step - 1: making a np array\n",
    "array_cpu = np.random.randint(0,255, size=(4000,4000)) # cpu array creation in ram\n",
    "\n",
    "#step - 2: sending the array to the gpu\n",
    "array_gpu = cp.asarray(array_cpu)\n",
    "\n",
    "\n",
    "#step - 3: makig fft with np array in gpu\n",
    "\n",
    "from cupyx.scipy import fft as fft_gpu\n",
    "fft_in_gpu = fft_gpu.fftn(array_gpu)\n",
    "\n",
    "\n",
    "#step - : sending back to the cpu as numpy array\n",
    "fft_send_back = cp.asnumpy(fft_in_gpu)\n"
   ]
  },
  {
   "cell_type": "code",
   "execution_count": 9,
   "id": "d1507174-9f8e-4691-86d7-778f58f1e0f9",
   "metadata": {},
   "outputs": [
    {
     "data": {
      "text/plain": [
       "numpy.ndarray"
      ]
     },
     "execution_count": 9,
     "metadata": {},
     "output_type": "execute_result"
    }
   ],
   "source": [
    "type(fft_send_back)"
   ]
  },
  {
   "cell_type": "code",
   "execution_count": 10,
   "id": "0df97861-58f6-4dd5-b09f-983015496f6b",
   "metadata": {},
   "outputs": [
    {
     "data": {
      "text/plain": [
       "True"
      ]
     },
     "execution_count": 10,
     "metadata": {},
     "output_type": "execute_result"
    }
   ],
   "source": [
    "#testing\n",
    "fft_cpu = fft.fftn(array_cpu) #fft on cpu\n",
    "np.allclose(fft_cpu,fft_send_back) "
   ]
  },
  {
   "cell_type": "code",
   "execution_count": 11,
   "id": "ed97af5a-4613-49cb-aaea-822ec3199154",
   "metadata": {},
   "outputs": [
    {
     "name": "stdout",
     "output_type": "stream",
     "text": [
      "[[128  94 194 ...  46 178  35]\n",
      " [221 222 142 ...  68 216  29]\n",
      " [134   0 164 ...  27 146 160]\n",
      " ...\n",
      " [135  11 194 ...   0 158 250]\n",
      " [ 85  73 105 ...  46  42 106]\n",
      " [ 48  73  22 ... 237 194  78]]\n",
      "<class 'numpy.ndarray'>\n"
     ]
    }
   ],
   "source": [
    "#creating array dorect on gpu\n",
    "\n",
    "array_gpu_direct = cp.random.randint(0,255, size=(4000,4000))\n",
    "print(array_gpu_direct)\n",
    "\n",
    "#convert it to numpy\n",
    "array_numpy = cp.asnumpy(array_gpu_direct)\n",
    "\n",
    "print(type(array_numpy))"
   ]
  },
  {
   "cell_type": "markdown",
   "id": "5bdf304d-6563-4f7b-91bc-5cd7202e8e3f",
   "metadata": {},
   "source": [
    "#numba.cuda"
   ]
  },
  {
   "cell_type": "code",
   "execution_count": 2,
   "id": "94b5a3cd-5971-4d06-bae8-ee1965f3437f",
   "metadata": {},
   "outputs": [
    {
     "ename": "ImportError",
     "evalue": "Numba needs NumPy 1.21 or less",
     "output_type": "error",
     "traceback": [
      "\u001b[1;31m---------------------------------------------------------------------------\u001b[0m",
      "\u001b[1;31mImportError\u001b[0m                               Traceback (most recent call last)",
      "\u001b[1;32m~\\AppData\\Local\\Temp\\ipykernel_42652\\2240081735.py\u001b[0m in \u001b[0;36m<module>\u001b[1;34m\u001b[0m\n\u001b[1;32m----> 1\u001b[1;33m \u001b[1;32mfrom\u001b[0m \u001b[0mnumba\u001b[0m \u001b[1;32mimport\u001b[0m \u001b[0mcuda\u001b[0m\u001b[1;33m\u001b[0m\u001b[1;33m\u001b[0m\u001b[0m\n\u001b[0m",
      "\u001b[1;32m~\\anaconda3\\lib\\site-packages\\numba\\__init__.py\u001b[0m in \u001b[0;36m<module>\u001b[1;34m\u001b[0m\n\u001b[0;32m    198\u001b[0m \u001b[1;33m\u001b[0m\u001b[0m\n\u001b[0;32m    199\u001b[0m \u001b[0m_ensure_llvm\u001b[0m\u001b[1;33m(\u001b[0m\u001b[1;33m)\u001b[0m\u001b[1;33m\u001b[0m\u001b[1;33m\u001b[0m\u001b[0m\n\u001b[1;32m--> 200\u001b[1;33m \u001b[0m_ensure_critical_deps\u001b[0m\u001b[1;33m(\u001b[0m\u001b[1;33m)\u001b[0m\u001b[1;33m\u001b[0m\u001b[1;33m\u001b[0m\u001b[0m\n\u001b[0m\u001b[0;32m    201\u001b[0m \u001b[1;33m\u001b[0m\u001b[0m\n\u001b[0;32m    202\u001b[0m \u001b[1;31m# we know llvmlite is working as the above tests passed, import it now as SVML\u001b[0m\u001b[1;33m\u001b[0m\u001b[1;33m\u001b[0m\u001b[0m\n",
      "\u001b[1;32m~\\anaconda3\\lib\\site-packages\\numba\\__init__.py\u001b[0m in \u001b[0;36m_ensure_critical_deps\u001b[1;34m()\u001b[0m\n\u001b[0;32m    138\u001b[0m         \u001b[1;32mraise\u001b[0m \u001b[0mImportError\u001b[0m\u001b[1;33m(\u001b[0m\u001b[1;34m\"Numba needs NumPy 1.18 or greater\"\u001b[0m\u001b[1;33m)\u001b[0m\u001b[1;33m\u001b[0m\u001b[1;33m\u001b[0m\u001b[0m\n\u001b[0;32m    139\u001b[0m     \u001b[1;32melif\u001b[0m \u001b[0mnumpy_version\u001b[0m \u001b[1;33m>\u001b[0m \u001b[1;33m(\u001b[0m\u001b[1;36m1\u001b[0m\u001b[1;33m,\u001b[0m \u001b[1;36m21\u001b[0m\u001b[1;33m)\u001b[0m\u001b[1;33m:\u001b[0m\u001b[1;33m\u001b[0m\u001b[1;33m\u001b[0m\u001b[0m\n\u001b[1;32m--> 140\u001b[1;33m         \u001b[1;32mraise\u001b[0m \u001b[0mImportError\u001b[0m\u001b[1;33m(\u001b[0m\u001b[1;34m\"Numba needs NumPy 1.21 or less\"\u001b[0m\u001b[1;33m)\u001b[0m\u001b[1;33m\u001b[0m\u001b[1;33m\u001b[0m\u001b[0m\n\u001b[0m\u001b[0;32m    141\u001b[0m \u001b[1;33m\u001b[0m\u001b[0m\n\u001b[0;32m    142\u001b[0m     \u001b[1;32mtry\u001b[0m\u001b[1;33m:\u001b[0m\u001b[1;33m\u001b[0m\u001b[1;33m\u001b[0m\u001b[0m\n",
      "\u001b[1;31mImportError\u001b[0m: Numba needs NumPy 1.21 or less"
     ]
    }
   ],
   "source": [
    "from numba import cuda"
   ]
  },
  {
   "cell_type": "code",
   "execution_count": 3,
   "id": "da41f988-778d-41f4-bf8a-8499a1ecb7cf",
   "metadata": {},
   "outputs": [
    {
     "ename": "NameError",
     "evalue": "name 'cuda' is not defined",
     "output_type": "error",
     "traceback": [
      "\u001b[1;31m---------------------------------------------------------------------------\u001b[0m",
      "\u001b[1;31mNameError\u001b[0m                                 Traceback (most recent call last)",
      "\u001b[1;32m~\\AppData\\Local\\Temp\\ipykernel_42652\\938651201.py\u001b[0m in \u001b[0;36m<module>\u001b[1;34m\u001b[0m\n\u001b[1;32m----> 1\u001b[1;33m \u001b[0mcuda\u001b[0m\u001b[1;33m.\u001b[0m\u001b[0mdetect\u001b[0m\u001b[1;33m(\u001b[0m\u001b[1;33m)\u001b[0m\u001b[1;33m\u001b[0m\u001b[1;33m\u001b[0m\u001b[0m\n\u001b[0m",
      "\u001b[1;31mNameError\u001b[0m: name 'cuda' is not defined"
     ]
    }
   ],
   "source": [
    "cuda.detect()"
   ]
  },
  {
   "cell_type": "code",
   "execution_count": null,
   "id": "d3b9bc39-3060-45a2-8ede-c5a07017438a",
   "metadata": {},
   "outputs": [],
   "source": []
  },
  {
   "cell_type": "code",
   "execution_count": null,
   "id": "ca30c87c-df30-4dbb-938f-b5da54935d2c",
   "metadata": {},
   "outputs": [],
   "source": []
  },
  {
   "cell_type": "code",
   "execution_count": null,
   "id": "6396dcae-dcf1-4a32-b882-920e40dfd463",
   "metadata": {},
   "outputs": [],
   "source": []
  },
  {
   "cell_type": "code",
   "execution_count": null,
   "id": "42bbe6f8-0c6e-48f5-9701-f92f5d907d1a",
   "metadata": {},
   "outputs": [],
   "source": []
  },
  {
   "cell_type": "code",
   "execution_count": null,
   "id": "646febf2-db18-4e5b-a9ae-d12c5d54ef93",
   "metadata": {},
   "outputs": [],
   "source": []
  },
  {
   "cell_type": "code",
   "execution_count": null,
   "id": "197a2c89-18ba-483b-95a3-ea9332e0d2d4",
   "metadata": {},
   "outputs": [],
   "source": []
  },
  {
   "cell_type": "code",
   "execution_count": null,
   "id": "906bd9c0-3216-4aa5-bae7-93e3f4d82c1c",
   "metadata": {},
   "outputs": [],
   "source": []
  },
  {
   "cell_type": "code",
   "execution_count": null,
   "id": "ceb990a2-50d5-45e5-ad84-df2be3a59fe8",
   "metadata": {},
   "outputs": [],
   "source": []
  },
  {
   "cell_type": "code",
   "execution_count": null,
   "id": "1530e5da-47e4-4c53-81b2-ee2099c74cc0",
   "metadata": {},
   "outputs": [],
   "source": []
  },
  {
   "cell_type": "code",
   "execution_count": null,
   "id": "9111d481-d114-4270-a3bf-0f338fba5097",
   "metadata": {},
   "outputs": [],
   "source": []
  },
  {
   "cell_type": "code",
   "execution_count": null,
   "id": "30531d22-6995-4139-9643-051825f7700e",
   "metadata": {},
   "outputs": [],
   "source": []
  },
  {
   "cell_type": "code",
   "execution_count": null,
   "id": "a383d3f6-4032-4558-a8b4-0ca261d2c2db",
   "metadata": {},
   "outputs": [],
   "source": []
  },
  {
   "cell_type": "code",
   "execution_count": null,
   "id": "fdfdc2c1-9000-46de-8f9f-76918832b0c6",
   "metadata": {},
   "outputs": [],
   "source": []
  },
  {
   "cell_type": "code",
   "execution_count": null,
   "id": "ad341d55-06d1-444b-a6be-8893501d51f4",
   "metadata": {},
   "outputs": [],
   "source": []
  },
  {
   "cell_type": "code",
   "execution_count": null,
   "id": "9e2d592d-3c6b-432e-823f-72a433ad8a30",
   "metadata": {},
   "outputs": [],
   "source": []
  },
  {
   "cell_type": "code",
   "execution_count": null,
   "id": "8d9b662f-304b-40ac-b80c-0bd660beaba1",
   "metadata": {},
   "outputs": [],
   "source": []
  },
  {
   "cell_type": "code",
   "execution_count": null,
   "id": "f793fd90-ec6e-4205-aa30-2192fa8b8b97",
   "metadata": {},
   "outputs": [],
   "source": []
  },
  {
   "cell_type": "code",
   "execution_count": 70,
   "id": "eb5ee7a8-29c2-48ad-833d-e2f4853c94cf",
   "metadata": {},
   "outputs": [],
   "source": [
    "# Importing NumPy\n",
    "import numpy as np  \n",
    "\n",
    "# Using numpy.random.rand() to generate an array of random numbers of size (2, 2)\n",
    "random_array1 = np.random.rand(N)\n",
    "radnom_array2 = np.random.rand(N)\n"
   ]
  },
  {
   "cell_type": "code",
   "execution_count": 71,
   "id": "838c04ae-df35-4fb7-9b10-2855cfb5e8ad",
   "metadata": {},
   "outputs": [],
   "source": [
    "ans =[]\n",
    "for i in range(random_array1.size):\n",
    "    ans.append(random_array1[i]*radnom_array2[i]) \n",
    "    "
   ]
  },
  {
   "cell_type": "code",
   "execution_count": 55,
   "id": "fe7b7336-6970-46f1-a912-164f50c473ca",
   "metadata": {},
   "outputs": [
    {
     "name": "stdout",
     "output_type": "stream",
     "text": [
      "[0.049600174945875306, 0.04836575691397883, 0.0945811000522485, 0.19367070304946155, 0.2378207232994692, 0.015235294144712138, 0.04440892620195568, 0.017134004732664118, 0.056112696600885296, 0.02405702963315841, 0.1056482713860908, 0.5803322458977875, 0.3410060045419952, 0.8611443092637028, 0.22747057129413334, 0.10556723627977306, 0.11142799645355056, 0.31009838020032765, 0.014251867605170297, 0.09864654439669371, 0.2625767947646237, 0.04259395296053167, 0.26944149160866504, 0.6945953187058631, 0.1636652707965866, 0.5334470112128289, 0.6621028441820781, 0.2600436013013477, 0.3886417266075598, 0.5023589670127603]\n"
     ]
    }
   ],
   "source": [
    "print(ans)"
   ]
  },
  {
   "cell_type": "code",
   "execution_count": 37,
   "id": "b9e20844-307c-4bcb-b98d-94ab87f03bd3",
   "metadata": {},
   "outputs": [
    {
     "name": "stdout",
     "output_type": "stream",
     "text": [
      "Testing git\n"
     ]
    }
   ],
   "source": [
    "print(\"Testing git\")"
   ]
  },
  {
   "cell_type": "code",
   "execution_count": null,
   "id": "4319a10c-6eac-4840-9fd6-4616ea065d87",
   "metadata": {},
   "outputs": [],
   "source": []
  }
 ],
 "metadata": {
  "kernelspec": {
   "display_name": "Python 3 (ipykernel)",
   "language": "python",
   "name": "python3"
  },
  "language_info": {
   "codemirror_mode": {
    "name": "ipython",
    "version": 3
   },
   "file_extension": ".py",
   "mimetype": "text/x-python",
   "name": "python",
   "nbconvert_exporter": "python",
   "pygments_lexer": "ipython3",
   "version": "3.9.15"
  }
 },
 "nbformat": 4,
 "nbformat_minor": 5
}
