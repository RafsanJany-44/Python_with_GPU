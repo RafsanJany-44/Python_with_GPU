{
 "cells": [
  {
   "cell_type": "markdown",
   "id": "916532ff-6c86-417d-8e06-5d9576bacfcf",
   "metadata": {},
   "source": [
    "#Multiplication gains"
   ]
  },
  {
   "cell_type": "markdown",
   "id": "fa0c473b-b095-4d20-a1e2-1117c43b8666",
   "metadata": {},
   "source": [
    "##CPU MUl"
   ]
  },
  {
   "cell_type": "code",
   "execution_count": 72,
   "id": "94b2d786-600c-4da3-b729-882f44f840dc",
   "metadata": {},
   "outputs": [],
   "source": [
    "import numpy as np"
   ]
  },
  {
   "cell_type": "code",
   "execution_count": 73,
   "id": "1c7e8b39-d545-4eb6-b897-0371953447ba",
   "metadata": {},
   "outputs": [],
   "source": [
    "def MV(a,b,c):\n",
    "    for i in range(a.size):\n",
    "        c[i] = a[i]*b[i]\n",
    "\n",
    "    "
   ]
  },
  {
   "cell_type": "code",
   "execution_count": 74,
   "id": "c18c93e5-069b-4d5d-9f3a-a7048f2a0964",
   "metadata": {},
   "outputs": [],
   "source": [
    "N = 64000000\n",
    "\n",
    "A = np.ones(N, dtype = np.float32)\n",
    "B = np.ones(N, dtype = np.float32)\n",
    "C = np.ones(N, dtype = np.float32)"
   ]
  },
  {
   "cell_type": "code",
   "execution_count": 75,
   "id": "546c6b69-6d2c-4a98-b991-dcb01a43b66c",
   "metadata": {},
   "outputs": [
    {
     "name": "stdout",
     "output_type": "stream",
     "text": [
      "CPU times: total: 2.77 s\n",
      "Wall time: 9.29 s\n"
     ]
    }
   ],
   "source": [
    "%%time\n",
    "\n",
    "MV(A,B,C)"
   ]
  },
  {
   "cell_type": "code",
   "execution_count": null,
   "id": "4f5bcfc6-8549-4c73-8306-4fbf919ab502",
   "metadata": {},
   "outputs": [],
   "source": []
  },
  {
   "cell_type": "code",
   "execution_count": null,
   "id": "1e5c2ab6-21ab-4aab-b972-aeeed506285d",
   "metadata": {},
   "outputs": [],
   "source": []
  },
  {
   "cell_type": "code",
   "execution_count": null,
   "id": "a0140363-abfa-4013-a01b-fd802f032153",
   "metadata": {},
   "outputs": [],
   "source": []
  },
  {
   "cell_type": "code",
   "execution_count": null,
   "id": "e5147a74-29b7-485a-9c11-3d42131bee34",
   "metadata": {},
   "outputs": [],
   "source": []
  },
  {
   "cell_type": "code",
   "execution_count": null,
   "id": "480bdedb-d4dd-493b-a656-395ae2333f9c",
   "metadata": {},
   "outputs": [],
   "source": []
  },
  {
   "cell_type": "code",
   "execution_count": null,
   "id": "c6ed8946-7991-4ec0-ae76-75e2a5007695",
   "metadata": {},
   "outputs": [],
   "source": []
  },
  {
   "cell_type": "code",
   "execution_count": null,
   "id": "71d925bd-a751-44e6-8d3a-8181e35bd20d",
   "metadata": {},
   "outputs": [],
   "source": []
  },
  {
   "cell_type": "code",
   "execution_count": null,
   "id": "7503c2d6-457c-4587-acef-ab7cc34bb588",
   "metadata": {},
   "outputs": [],
   "source": []
  },
  {
   "cell_type": "code",
   "execution_count": null,
   "id": "0df97861-58f6-4dd5-b09f-983015496f6b",
   "metadata": {},
   "outputs": [],
   "source": []
  },
  {
   "cell_type": "code",
   "execution_count": null,
   "id": "ed97af5a-4613-49cb-aaea-822ec3199154",
   "metadata": {},
   "outputs": [],
   "source": []
  },
  {
   "cell_type": "code",
   "execution_count": null,
   "id": "f1804b0b-3ceb-4efb-8216-7c3948fcd49e",
   "metadata": {},
   "outputs": [],
   "source": []
  },
  {
   "cell_type": "code",
   "execution_count": null,
   "id": "94b5a3cd-5971-4d06-bae8-ee1965f3437f",
   "metadata": {},
   "outputs": [],
   "source": []
  },
  {
   "cell_type": "code",
   "execution_count": null,
   "id": "da41f988-778d-41f4-bf8a-8499a1ecb7cf",
   "metadata": {},
   "outputs": [],
   "source": []
  },
  {
   "cell_type": "code",
   "execution_count": null,
   "id": "d3b9bc39-3060-45a2-8ede-c5a07017438a",
   "metadata": {},
   "outputs": [],
   "source": []
  },
  {
   "cell_type": "code",
   "execution_count": null,
   "id": "ca30c87c-df30-4dbb-938f-b5da54935d2c",
   "metadata": {},
   "outputs": [],
   "source": []
  },
  {
   "cell_type": "code",
   "execution_count": null,
   "id": "6396dcae-dcf1-4a32-b882-920e40dfd463",
   "metadata": {},
   "outputs": [],
   "source": []
  },
  {
   "cell_type": "code",
   "execution_count": null,
   "id": "42bbe6f8-0c6e-48f5-9701-f92f5d907d1a",
   "metadata": {},
   "outputs": [],
   "source": []
  },
  {
   "cell_type": "code",
   "execution_count": null,
   "id": "646febf2-db18-4e5b-a9ae-d12c5d54ef93",
   "metadata": {},
   "outputs": [],
   "source": []
  },
  {
   "cell_type": "code",
   "execution_count": null,
   "id": "197a2c89-18ba-483b-95a3-ea9332e0d2d4",
   "metadata": {},
   "outputs": [],
   "source": []
  },
  {
   "cell_type": "code",
   "execution_count": null,
   "id": "906bd9c0-3216-4aa5-bae7-93e3f4d82c1c",
   "metadata": {},
   "outputs": [],
   "source": []
  },
  {
   "cell_type": "code",
   "execution_count": null,
   "id": "ceb990a2-50d5-45e5-ad84-df2be3a59fe8",
   "metadata": {},
   "outputs": [],
   "source": []
  },
  {
   "cell_type": "code",
   "execution_count": null,
   "id": "1530e5da-47e4-4c53-81b2-ee2099c74cc0",
   "metadata": {},
   "outputs": [],
   "source": []
  },
  {
   "cell_type": "code",
   "execution_count": null,
   "id": "9111d481-d114-4270-a3bf-0f338fba5097",
   "metadata": {},
   "outputs": [],
   "source": []
  },
  {
   "cell_type": "code",
   "execution_count": null,
   "id": "30531d22-6995-4139-9643-051825f7700e",
   "metadata": {},
   "outputs": [],
   "source": []
  },
  {
   "cell_type": "code",
   "execution_count": null,
   "id": "a383d3f6-4032-4558-a8b4-0ca261d2c2db",
   "metadata": {},
   "outputs": [],
   "source": []
  },
  {
   "cell_type": "code",
   "execution_count": null,
   "id": "fdfdc2c1-9000-46de-8f9f-76918832b0c6",
   "metadata": {},
   "outputs": [],
   "source": []
  },
  {
   "cell_type": "code",
   "execution_count": null,
   "id": "ad341d55-06d1-444b-a6be-8893501d51f4",
   "metadata": {},
   "outputs": [],
   "source": []
  },
  {
   "cell_type": "code",
   "execution_count": null,
   "id": "9e2d592d-3c6b-432e-823f-72a433ad8a30",
   "metadata": {},
   "outputs": [],
   "source": []
  },
  {
   "cell_type": "code",
   "execution_count": null,
   "id": "8d9b662f-304b-40ac-b80c-0bd660beaba1",
   "metadata": {},
   "outputs": [],
   "source": []
  },
  {
   "cell_type": "code",
   "execution_count": null,
   "id": "f793fd90-ec6e-4205-aa30-2192fa8b8b97",
   "metadata": {},
   "outputs": [],
   "source": []
  },
  {
   "cell_type": "code",
   "execution_count": 70,
   "id": "eb5ee7a8-29c2-48ad-833d-e2f4853c94cf",
   "metadata": {},
   "outputs": [],
   "source": [
    "# Importing NumPy\n",
    "import numpy as np  \n",
    "\n",
    "# Using numpy.random.rand() to generate an array of random numbers of size (2, 2)\n",
    "random_array1 = np.random.rand(N)\n",
    "radnom_array2 = np.random.rand(N)\n"
   ]
  },
  {
   "cell_type": "code",
   "execution_count": 71,
   "id": "838c04ae-df35-4fb7-9b10-2855cfb5e8ad",
   "metadata": {},
   "outputs": [],
   "source": [
    "ans =[]\n",
    "for i in range(random_array1.size):\n",
    "    ans.append(random_array1[i]*radnom_array2[i]) \n",
    "    "
   ]
  },
  {
   "cell_type": "code",
   "execution_count": 55,
   "id": "fe7b7336-6970-46f1-a912-164f50c473ca",
   "metadata": {},
   "outputs": [
    {
     "name": "stdout",
     "output_type": "stream",
     "text": [
      "[0.049600174945875306, 0.04836575691397883, 0.0945811000522485, 0.19367070304946155, 0.2378207232994692, 0.015235294144712138, 0.04440892620195568, 0.017134004732664118, 0.056112696600885296, 0.02405702963315841, 0.1056482713860908, 0.5803322458977875, 0.3410060045419952, 0.8611443092637028, 0.22747057129413334, 0.10556723627977306, 0.11142799645355056, 0.31009838020032765, 0.014251867605170297, 0.09864654439669371, 0.2625767947646237, 0.04259395296053167, 0.26944149160866504, 0.6945953187058631, 0.1636652707965866, 0.5334470112128289, 0.6621028441820781, 0.2600436013013477, 0.3886417266075598, 0.5023589670127603]\n"
     ]
    }
   ],
   "source": [
    "print(ans)"
   ]
  },
  {
   "cell_type": "code",
   "execution_count": 37,
   "id": "b9e20844-307c-4bcb-b98d-94ab87f03bd3",
   "metadata": {},
   "outputs": [
    {
     "name": "stdout",
     "output_type": "stream",
     "text": [
      "Testing git\n"
     ]
    }
   ],
   "source": [
    "print(\"Testing git\")"
   ]
  },
  {
   "cell_type": "code",
   "execution_count": null,
   "id": "4319a10c-6eac-4840-9fd6-4616ea065d87",
   "metadata": {},
   "outputs": [],
   "source": []
  }
 ],
 "metadata": {
  "kernelspec": {
   "display_name": "Python 3 (ipykernel)",
   "language": "python",
   "name": "python3"
  },
  "language_info": {
   "codemirror_mode": {
    "name": "ipython",
    "version": 3
   },
   "file_extension": ".py",
   "mimetype": "text/x-python",
   "name": "python",
   "nbconvert_exporter": "python",
   "pygments_lexer": "ipython3",
   "version": "3.9.15"
  }
 },
 "nbformat": 4,
 "nbformat_minor": 5
}
