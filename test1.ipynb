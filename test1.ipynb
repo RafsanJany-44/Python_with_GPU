{
 "cells": [
  {
   "cell_type": "code",
   "execution_count": 1,
   "id": "4628e59b-87bf-49d2-ae03-bb071798907b",
   "metadata": {},
   "outputs": [
    {
     "name": "stdout",
     "output_type": "stream",
     "text": [
      "Requirement already satisfied: jupyterlab-git in c:\\users\\razer\\anaconda3\\envs\\titanoboa\\lib\\site-packages (0.41.0)\n",
      "Requirement already satisfied: pexpect in c:\\users\\razer\\anaconda3\\envs\\titanoboa\\lib\\site-packages (from jupyterlab-git) (4.8.0)\n",
      "Requirement already satisfied: packaging in c:\\users\\razer\\anaconda3\\envs\\titanoboa\\lib\\site-packages (from jupyterlab-git) (22.0)\n",
      "Requirement already satisfied: traitlets~=5.0 in c:\\users\\razer\\anaconda3\\envs\\titanoboa\\lib\\site-packages (from jupyterlab-git) (5.7.1)\n",
      "Requirement already satisfied: jupyter-server<3,>=1.21.0 in c:\\users\\razer\\anaconda3\\envs\\titanoboa\\lib\\site-packages (from jupyterlab-git) (1.23.4)\n",
      "Requirement already satisfied: nbdime~=3.1 in c:\\users\\razer\\anaconda3\\envs\\titanoboa\\lib\\site-packages (from jupyterlab-git) (3.1.1)\n",
      "Requirement already satisfied: nbformat in c:\\users\\razer\\anaconda3\\envs\\titanoboa\\lib\\site-packages (from jupyterlab-git) (5.7.0)\n",
      "Requirement already satisfied: websocket-client in c:\\users\\razer\\anaconda3\\envs\\titanoboa\\lib\\site-packages (from jupyter-server<3,>=1.21.0->jupyterlab-git) (0.58.0)\n",
      "Requirement already satisfied: nbconvert>=6.4.4 in c:\\users\\razer\\anaconda3\\envs\\titanoboa\\lib\\site-packages (from jupyter-server<3,>=1.21.0->jupyterlab-git) (6.5.4)\n",
      "Requirement already satisfied: Send2Trash in c:\\users\\razer\\anaconda3\\envs\\titanoboa\\lib\\site-packages (from jupyter-server<3,>=1.21.0->jupyterlab-git) (1.8.0)\n",
      "Requirement already satisfied: prometheus-client in c:\\users\\razer\\anaconda3\\envs\\titanoboa\\lib\\site-packages (from jupyter-server<3,>=1.21.0->jupyterlab-git) (0.14.1)\n",
      "Requirement already satisfied: terminado>=0.8.3 in c:\\users\\razer\\anaconda3\\envs\\titanoboa\\lib\\site-packages (from jupyter-server<3,>=1.21.0->jupyterlab-git) (0.17.1)\n",
      "Requirement already satisfied: jupyter-core>=4.7.0 in c:\\users\\razer\\anaconda3\\envs\\titanoboa\\lib\\site-packages (from jupyter-server<3,>=1.21.0->jupyterlab-git) (5.1.1)\n",
      "Requirement already satisfied: pyzmq>=17 in c:\\users\\razer\\anaconda3\\envs\\titanoboa\\lib\\site-packages (from jupyter-server<3,>=1.21.0->jupyterlab-git) (23.2.0)\n",
      "Requirement already satisfied: argon2-cffi in c:\\users\\razer\\anaconda3\\envs\\titanoboa\\lib\\site-packages (from jupyter-server<3,>=1.21.0->jupyterlab-git) (21.3.0)\n",
      "Requirement already satisfied: jinja2 in c:\\users\\razer\\anaconda3\\envs\\titanoboa\\lib\\site-packages (from jupyter-server<3,>=1.21.0->jupyterlab-git) (3.1.2)\n",
      "Requirement already satisfied: pywinpty in c:\\users\\razer\\anaconda3\\envs\\titanoboa\\lib\\site-packages (from jupyter-server<3,>=1.21.0->jupyterlab-git) (2.0.2)\n",
      "Requirement already satisfied: anyio<4,>=3.1.0 in c:\\users\\razer\\anaconda3\\envs\\titanoboa\\lib\\site-packages (from jupyter-server<3,>=1.21.0->jupyterlab-git) (3.5.0)\n",
      "Requirement already satisfied: jupyter-client>=6.1.12 in c:\\users\\razer\\anaconda3\\envs\\titanoboa\\lib\\site-packages (from jupyter-server<3,>=1.21.0->jupyterlab-git) (7.4.8)\n",
      "Requirement already satisfied: tornado>=6.1.0 in c:\\users\\razer\\anaconda3\\envs\\titanoboa\\lib\\site-packages (from jupyter-server<3,>=1.21.0->jupyterlab-git) (6.2)\n",
      "Requirement already satisfied: jupyter-server-mathjax>=0.2.2 in c:\\users\\razer\\anaconda3\\envs\\titanoboa\\lib\\site-packages (from nbdime~=3.1->jupyterlab-git) (0.2.6)\n",
      "Requirement already satisfied: pygments in c:\\users\\razer\\anaconda3\\envs\\titanoboa\\lib\\site-packages (from nbdime~=3.1->jupyterlab-git) (2.11.2)\n",
      "Requirement already satisfied: GitPython!=2.1.4,!=2.1.5,!=2.1.6 in c:\\users\\razer\\anaconda3\\envs\\titanoboa\\lib\\site-packages (from nbdime~=3.1->jupyterlab-git) (3.1.31)\n",
      "Requirement already satisfied: requests in c:\\users\\razer\\anaconda3\\envs\\titanoboa\\lib\\site-packages (from nbdime~=3.1->jupyterlab-git) (2.28.1)\n",
      "Requirement already satisfied: colorama in c:\\users\\razer\\anaconda3\\envs\\titanoboa\\lib\\site-packages (from nbdime~=3.1->jupyterlab-git) (0.4.6)\n",
      "Requirement already satisfied: fastjsonschema in c:\\users\\razer\\anaconda3\\envs\\titanoboa\\lib\\site-packages (from nbformat->jupyterlab-git) (2.16.2)\n",
      "Requirement already satisfied: jsonschema>=2.6 in c:\\users\\razer\\anaconda3\\envs\\titanoboa\\lib\\site-packages (from nbformat->jupyterlab-git) (4.16.0)\n",
      "Requirement already satisfied: ptyprocess>=0.5 in c:\\users\\razer\\anaconda3\\envs\\titanoboa\\lib\\site-packages (from pexpect->jupyterlab-git) (0.7.0)\n",
      "Requirement already satisfied: sniffio>=1.1 in c:\\users\\razer\\anaconda3\\envs\\titanoboa\\lib\\site-packages (from anyio<4,>=3.1.0->jupyter-server<3,>=1.21.0->jupyterlab-git) (1.2.0)\n",
      "Requirement already satisfied: idna>=2.8 in c:\\users\\razer\\anaconda3\\envs\\titanoboa\\lib\\site-packages (from anyio<4,>=3.1.0->jupyter-server<3,>=1.21.0->jupyterlab-git) (3.4)\n",
      "Requirement already satisfied: gitdb<5,>=4.0.1 in c:\\users\\razer\\anaconda3\\envs\\titanoboa\\lib\\site-packages (from GitPython!=2.1.4,!=2.1.5,!=2.1.6->nbdime~=3.1->jupyterlab-git) (4.0.10)\n",
      "Requirement already satisfied: MarkupSafe>=2.0 in c:\\users\\razer\\anaconda3\\envs\\titanoboa\\lib\\site-packages (from jinja2->jupyter-server<3,>=1.21.0->jupyterlab-git) (2.1.1)\n",
      "Requirement already satisfied: attrs>=17.4.0 in c:\\users\\razer\\anaconda3\\envs\\titanoboa\\lib\\site-packages (from jsonschema>=2.6->nbformat->jupyterlab-git) (22.1.0)\n",
      "Requirement already satisfied: pyrsistent!=0.17.0,!=0.17.1,!=0.17.2,>=0.14.0 in c:\\users\\razer\\anaconda3\\envs\\titanoboa\\lib\\site-packages (from jsonschema>=2.6->nbformat->jupyterlab-git) (0.18.0)\n",
      "Requirement already satisfied: entrypoints in c:\\users\\razer\\anaconda3\\envs\\titanoboa\\lib\\site-packages (from jupyter-client>=6.1.12->jupyter-server<3,>=1.21.0->jupyterlab-git) (0.4)\n",
      "Requirement already satisfied: nest-asyncio>=1.5.4 in c:\\users\\razer\\anaconda3\\envs\\titanoboa\\lib\\site-packages (from jupyter-client>=6.1.12->jupyter-server<3,>=1.21.0->jupyterlab-git) (1.5.6)\n",
      "Requirement already satisfied: python-dateutil>=2.8.2 in c:\\users\\razer\\anaconda3\\envs\\titanoboa\\lib\\site-packages (from jupyter-client>=6.1.12->jupyter-server<3,>=1.21.0->jupyterlab-git) (2.8.2)\n",
      "Requirement already satisfied: platformdirs>=2.5 in c:\\users\\razer\\anaconda3\\envs\\titanoboa\\lib\\site-packages (from jupyter-core>=4.7.0->jupyter-server<3,>=1.21.0->jupyterlab-git) (2.5.2)\n",
      "Requirement already satisfied: pywin32>=1.0 in c:\\users\\razer\\anaconda3\\envs\\titanoboa\\lib\\site-packages (from jupyter-core>=4.7.0->jupyter-server<3,>=1.21.0->jupyterlab-git) (305.1)\n",
      "Requirement already satisfied: bleach in c:\\users\\razer\\anaconda3\\envs\\titanoboa\\lib\\site-packages (from nbconvert>=6.4.4->jupyter-server<3,>=1.21.0->jupyterlab-git) (4.1.0)\n",
      "Requirement already satisfied: beautifulsoup4 in c:\\users\\razer\\anaconda3\\envs\\titanoboa\\lib\\site-packages (from nbconvert>=6.4.4->jupyter-server<3,>=1.21.0->jupyterlab-git) (4.11.1)\n",
      "Requirement already satisfied: pandocfilters>=1.4.1 in c:\\users\\razer\\anaconda3\\envs\\titanoboa\\lib\\site-packages (from nbconvert>=6.4.4->jupyter-server<3,>=1.21.0->jupyterlab-git) (1.5.0)\n",
      "Requirement already satisfied: defusedxml in c:\\users\\razer\\anaconda3\\envs\\titanoboa\\lib\\site-packages (from nbconvert>=6.4.4->jupyter-server<3,>=1.21.0->jupyterlab-git) (0.7.1)\n",
      "Requirement already satisfied: jupyterlab-pygments in c:\\users\\razer\\anaconda3\\envs\\titanoboa\\lib\\site-packages (from nbconvert>=6.4.4->jupyter-server<3,>=1.21.0->jupyterlab-git) (0.1.2)\n",
      "Requirement already satisfied: lxml in c:\\users\\razer\\anaconda3\\envs\\titanoboa\\lib\\site-packages (from nbconvert>=6.4.4->jupyter-server<3,>=1.21.0->jupyterlab-git) (4.9.1)\n",
      "Requirement already satisfied: tinycss2 in c:\\users\\razer\\anaconda3\\envs\\titanoboa\\lib\\site-packages (from nbconvert>=6.4.4->jupyter-server<3,>=1.21.0->jupyterlab-git) (1.2.1)\n",
      "Requirement already satisfied: nbclient>=0.5.0 in c:\\users\\razer\\anaconda3\\envs\\titanoboa\\lib\\site-packages (from nbconvert>=6.4.4->jupyter-server<3,>=1.21.0->jupyterlab-git) (0.5.13)\n",
      "Requirement already satisfied: mistune<2,>=0.8.1 in c:\\users\\razer\\anaconda3\\envs\\titanoboa\\lib\\site-packages (from nbconvert>=6.4.4->jupyter-server<3,>=1.21.0->jupyterlab-git) (0.8.4)\n",
      "Requirement already satisfied: argon2-cffi-bindings in c:\\users\\razer\\anaconda3\\envs\\titanoboa\\lib\\site-packages (from argon2-cffi->jupyter-server<3,>=1.21.0->jupyterlab-git) (21.2.0)\n",
      "Requirement already satisfied: urllib3<1.27,>=1.21.1 in c:\\users\\razer\\anaconda3\\envs\\titanoboa\\lib\\site-packages (from requests->nbdime~=3.1->jupyterlab-git) (1.26.13)\n",
      "Requirement already satisfied: certifi>=2017.4.17 in c:\\users\\razer\\anaconda3\\envs\\titanoboa\\lib\\site-packages (from requests->nbdime~=3.1->jupyterlab-git) (2022.12.7)\n",
      "Requirement already satisfied: charset-normalizer<3,>=2 in c:\\users\\razer\\anaconda3\\envs\\titanoboa\\lib\\site-packages (from requests->nbdime~=3.1->jupyterlab-git) (2.0.4)\n",
      "Requirement already satisfied: six in c:\\users\\razer\\anaconda3\\envs\\titanoboa\\lib\\site-packages (from websocket-client->jupyter-server<3,>=1.21.0->jupyterlab-git) (1.16.0)\n",
      "Requirement already satisfied: smmap<6,>=3.0.1 in c:\\users\\razer\\anaconda3\\envs\\titanoboa\\lib\\site-packages (from gitdb<5,>=4.0.1->GitPython!=2.1.4,!=2.1.5,!=2.1.6->nbdime~=3.1->jupyterlab-git) (5.0.0)\n",
      "Requirement already satisfied: cffi>=1.0.1 in c:\\users\\razer\\anaconda3\\envs\\titanoboa\\lib\\site-packages (from argon2-cffi-bindings->argon2-cffi->jupyter-server<3,>=1.21.0->jupyterlab-git) (1.15.1)\n",
      "Requirement already satisfied: soupsieve>1.2 in c:\\users\\razer\\anaconda3\\envs\\titanoboa\\lib\\site-packages (from beautifulsoup4->nbconvert>=6.4.4->jupyter-server<3,>=1.21.0->jupyterlab-git) (2.3.2.post1)\n",
      "Requirement already satisfied: webencodings in c:\\users\\razer\\anaconda3\\envs\\titanoboa\\lib\\site-packages (from bleach->nbconvert>=6.4.4->jupyter-server<3,>=1.21.0->jupyterlab-git) (0.5.1)\n",
      "Requirement already satisfied: pycparser in c:\\users\\razer\\anaconda3\\envs\\titanoboa\\lib\\site-packages (from cffi>=1.0.1->argon2-cffi-bindings->argon2-cffi->jupyter-server<3,>=1.21.0->jupyterlab-git) (2.21)\n"
     ]
    }
   ],
   "source": [
    "!pip install --upgrade jupyterlab-git"
   ]
  },
  {
   "cell_type": "code",
   "execution_count": 2,
   "id": "6fde6e9a-9100-4656-8ff9-2ce36f64bf4c",
   "metadata": {},
   "outputs": [],
   "source": [
    "import tensorflow as tf\n",
    "from tensorflow import keras"
   ]
  },
  {
   "cell_type": "code",
   "execution_count": 3,
   "id": "45495f37-9b58-4921-bbd8-a960e3cff8a8",
   "metadata": {},
   "outputs": [
    {
     "name": "stdout",
     "output_type": "stream",
     "text": [
      "Num Gpus Avaliable:  1\n"
     ]
    }
   ],
   "source": [
    "print(\"Num Gpus Avaliable: \",len(tf.config.experimental.list_physical_devices(\"GPU\")))"
   ]
  },
  {
   "cell_type": "code",
   "execution_count": 4,
   "id": "1d1a9098-8b70-4d28-a9fa-10252f74853c",
   "metadata": {},
   "outputs": [
    {
     "data": {
      "text/plain": [
       "True"
      ]
     },
     "execution_count": 4,
     "metadata": {},
     "output_type": "execute_result"
    }
   ],
   "source": [
    "tf.test.is_built_with_cuda()"
   ]
  },
  {
   "cell_type": "code",
   "execution_count": 5,
   "id": "1eb3a236-efc7-4550-ac54-c7ebcb6fe435",
   "metadata": {},
   "outputs": [
    {
     "data": {
      "text/plain": [
       "[PhysicalDevice(name='/physical_device:GPU:0', device_type='GPU')]"
      ]
     },
     "execution_count": 5,
     "metadata": {},
     "output_type": "execute_result"
    }
   ],
   "source": [
    "tf.config.experimental.list_physical_devices(\"GPU\")"
   ]
  },
  {
   "cell_type": "code",
   "execution_count": 6,
   "id": "8723f76a-62d4-4d50-bd2b-2e16364a2f89",
   "metadata": {},
   "outputs": [
    {
     "name": "stdout",
     "output_type": "stream",
     "text": [
      "2.6.0\n"
     ]
    }
   ],
   "source": [
    "print(tf.version.VERSION)"
   ]
  },
  {
   "cell_type": "code",
   "execution_count": 7,
   "id": "00fadb09-02b5-4529-a9ba-7191c2d07215",
   "metadata": {},
   "outputs": [
    {
     "data": {
      "text/plain": [
       "'3.9.15 (main, Nov 24 2022, 14:39:17) [MSC v.1916 64 bit (AMD64)]'"
      ]
     },
     "execution_count": 7,
     "metadata": {},
     "output_type": "execute_result"
    }
   ],
   "source": [
    "import sys\n",
    "sys.version"
   ]
  },
  {
   "cell_type": "code",
   "execution_count": 8,
   "id": "e5649549-360c-4923-8e3e-cedc3640219a",
   "metadata": {},
   "outputs": [
    {
     "name": "stdout",
     "output_type": "stream",
     "text": [
      "Your runtime has 34.0 gigabytes of available RAM\n",
      "\n",
      "You are using a high-RAM runtime!\n"
     ]
    }
   ],
   "source": [
    "from psutil import virtual_memory\n",
    "ram_gb = virtual_memory().total / 1e9\n",
    "print('Your runtime has {:.1f} gigabytes of available RAM\\n'.format(ram_gb))\n",
    "\n",
    "if ram_gb < 20:\n",
    "  print('Not using a high-RAM runtime')\n",
    "else:\n",
    "  print('You are using a high-RAM runtime!')"
   ]
  },
  {
   "cell_type": "code",
   "execution_count": 9,
   "id": "65be0f72-ab99-434f-b276-47e69e4c2eec",
   "metadata": {},
   "outputs": [
    {
     "name": "stdout",
     "output_type": "stream",
     "text": [
      "Default GPU Device:/device:GPU:0\n",
      "Sat May 13 20:52:50 2023       \n",
      "+-----------------------------------------------------------------------------+\n",
      "| NVIDIA-SMI 517.00       Driver Version: 517.00       CUDA Version: 11.7     |\n",
      "|-------------------------------+----------------------+----------------------+\n",
      "| GPU  Name            TCC/WDDM | Bus-Id        Disp.A | Volatile Uncorr. ECC |\n",
      "| Fan  Temp  Perf  Pwr:Usage/Cap|         Memory-Usage | GPU-Util  Compute M. |\n",
      "|                               |                      |               MIG M. |\n",
      "|===============================+======================+======================|\n",
      "|   0  NVIDIA GeForce ... WDDM  | 00000000:01:00.0 Off |                  N/A |\n",
      "| N/A   50C    P0    27W /  N/A |    309MiB / 16384MiB |      2%      Default |\n",
      "|                               |                      |                  N/A |\n",
      "+-------------------------------+----------------------+----------------------+\n",
      "                                                                               \n",
      "+-----------------------------------------------------------------------------+\n",
      "| Processes:                                                                  |\n",
      "|  GPU   GI   CI        PID   Type   Process name                  GPU Memory |\n",
      "|        ID   ID                                                   Usage      |\n",
      "|=============================================================================|\n",
      "|    0   N/A  N/A     15864      C   ...envs\\TitanoBoa\\python.exe    N/A      |\n",
      "+-----------------------------------------------------------------------------+\n"
     ]
    }
   ],
   "source": [
    "if tf.test.gpu_device_name(): \n",
    "\n",
    "    print('Default GPU Device:{}'.format(tf.test.gpu_device_name()))\n",
    "\n",
    "else:\n",
    "\n",
    "   print(\"Please install GPU version of TF\")\n",
    "\n",
    "gpu_info = !nvidia-smi\n",
    "gpu_info = '\\n'.join(gpu_info)\n",
    "if gpu_info.find('failed') >= 0:\n",
    "  print('Not connected to a GPU')\n",
    "else:\n",
    "  print(gpu_info)\n"
   ]
  },
  {
   "cell_type": "code",
   "execution_count": 12,
   "id": "452dece5-d4a7-43f3-8a5a-e0f0bc6be117",
   "metadata": {},
   "outputs": [],
   "source": [
    "import numpy as np"
   ]
  },
  {
   "cell_type": "code",
   "execution_count": 13,
   "id": "21ad5220-571e-4575-8aca-613cb5db5d27",
   "metadata": {},
   "outputs": [],
   "source": [
    "def MultiplyVect(a,b,c):\n",
    "    for i in range(a.size):\n",
    "        c[i] = a[i]*b[i]\n",
    "        "
   ]
  },
  {
   "cell_type": "code",
   "execution_count": 14,
   "id": "714ea9f5-9c27-4b57-81fb-a65227ff4c87",
   "metadata": {},
   "outputs": [],
   "source": [
    "N = 64000000\n",
    "A = np.ones(N,dtype = np.float32)\n",
    "B = np.ones(N,dtype = np.float32) \n",
    "C = np.ones(N,dtype = np.float32)"
   ]
  },
  {
   "cell_type": "code",
   "execution_count": 12,
   "id": "7132c798-9b5b-41b5-9e71-d6e900f30962",
   "metadata": {},
   "outputs": [
    {
     "name": "stdout",
     "output_type": "stream",
     "text": [
      "CPU times: total: 7.05 s\n",
      "Wall time: 11.1 s\n"
     ]
    }
   ],
   "source": [
    "%%time\n",
    "MultiplyVect(A,B,C)"
   ]
  },
  {
   "cell_type": "markdown",
   "id": "5e91d254-c54f-450e-8407-d426bb0695e6",
   "metadata": {},
   "source": [
    "#Cupy"
   ]
  },
  {
   "cell_type": "code",
   "execution_count": 19,
   "id": "7df35ad2-3f57-4cbe-b439-08405c8ae299",
   "metadata": {},
   "outputs": [],
   "source": [
    "import cupy as cp"
   ]
  },
  {
   "cell_type": "code",
   "execution_count": 20,
   "id": "7cfb4a3c-7859-46b3-9705-5efda9573943",
   "metadata": {},
   "outputs": [],
   "source": [
    "import numpy as np"
   ]
  },
  {
   "cell_type": "code",
   "execution_count": 21,
   "id": "c4cb8910-97f6-4de5-9234-88f9631957a5",
   "metadata": {},
   "outputs": [],
   "source": [
    "list_cpu = np.random.randint(0,255, size = (2000,2000))"
   ]
  },
  {
   "cell_type": "code",
   "execution_count": 22,
   "id": "9147b18c-9f40-496f-a9f5-ae5c749be837",
   "metadata": {},
   "outputs": [
    {
     "data": {
      "text/plain": [
       "array([[  8, 194, 119, ..., 125, 118, 106],\n",
       "       [ 50, 129,  86, ...,   5, 220,  22],\n",
       "       [ 82, 139,  24, ..., 144, 162, 164],\n",
       "       ...,\n",
       "       [171,  47, 253, ..., 139, 229,  26],\n",
       "       [165, 189, 122, ..., 186,  85,  10],\n",
       "       [ 18,  98, 158, ...,  11, 181,  14]])"
      ]
     },
     "execution_count": 22,
     "metadata": {},
     "output_type": "execute_result"
    }
   ],
   "source": [
    "list_cpu"
   ]
  },
  {
   "cell_type": "code",
   "execution_count": 26,
   "id": "58c6c90d-840b-4055-a524-faab45078f2a",
   "metadata": {},
   "outputs": [
    {
     "data": {
      "text/plain": [
       "16.0"
      ]
     },
     "execution_count": 26,
     "metadata": {},
     "output_type": "execute_result"
    }
   ],
   "source": [
    "list_cpu.nbytes/1e6"
   ]
  },
  {
   "cell_type": "code",
   "execution_count": 27,
   "id": "ef7e810c-2c3e-4c55-8621-1a914ad97980",
   "metadata": {},
   "outputs": [],
   "source": [
    "list_gpu = cp.asarray(list_cpu)"
   ]
  },
  {
   "cell_type": "code",
   "execution_count": 28,
   "id": "ec6b21eb-dea6-4630-b174-06aad3d2f1bd",
   "metadata": {},
   "outputs": [
    {
     "data": {
      "text/plain": [
       "array([[  8, 194, 119, ..., 125, 118, 106],\n",
       "       [ 50, 129,  86, ...,   5, 220,  22],\n",
       "       [ 82, 139,  24, ..., 144, 162, 164],\n",
       "       ...,\n",
       "       [171,  47, 253, ..., 139, 229,  26],\n",
       "       [165, 189, 122, ..., 186,  85,  10],\n",
       "       [ 18,  98, 158, ...,  11, 181,  14]])"
      ]
     },
     "execution_count": 28,
     "metadata": {},
     "output_type": "execute_result"
    }
   ],
   "source": [
    "list_gpu"
   ]
  },
  {
   "cell_type": "code",
   "execution_count": 29,
   "id": "393c4004-6d65-414c-a85a-bd65f4e44267",
   "metadata": {},
   "outputs": [
    {
     "name": "stdout",
     "output_type": "stream",
     "text": [
      "1.51 ms ± 100 µs per loop (mean ± std. dev. of 7 runs, 100 loops each)\n"
     ]
    }
   ],
   "source": [
    "%%timeit\n",
    "\n",
    "list_gpu = cp.asarray(list_cpu)"
   ]
  },
  {
   "cell_type": "code",
   "execution_count": 30,
   "id": "42b54117-7af4-45b8-a075-e74c096fd2d7",
   "metadata": {},
   "outputs": [],
   "source": [
    "from scipy import fft"
   ]
  },
  {
   "cell_type": "code",
   "execution_count": 31,
   "id": "0f9eb1bf-eac5-46a5-8c6e-cb48db9fc6bb",
   "metadata": {},
   "outputs": [
    {
     "name": "stdout",
     "output_type": "stream",
     "text": [
      "CPU times: total: 31.2 ms\n",
      "Wall time: 76.9 ms\n"
     ]
    },
    {
     "data": {
      "text/plain": [
       "array([[ 5.07937269e+08     -0.j        ,\n",
       "        -1.77156125e+05 -34478.27514732j,\n",
       "        -5.96031757e+04 -15215.33358875j, ...,\n",
       "         2.38748078e+04 +93893.91261536j,\n",
       "        -5.96031757e+04 +15215.33358875j,\n",
       "        -1.77156125e+05 +34478.27514732j],\n",
       "       [ 1.13964069e+05 -98048.5699259j ,\n",
       "        -6.74948891e+04 +18873.89004452j,\n",
       "         4.59862700e+04 +35675.71099994j, ...,\n",
       "         6.39125234e+04+123186.51136109j,\n",
       "         1.44164172e+04-138661.04652137j,\n",
       "        -7.66928630e+04 -54615.42467222j],\n",
       "       [-5.46022176e+04 +71290.26026384j,\n",
       "        -2.26503769e+05 -27787.89026422j,\n",
       "         9.70889191e+04 -45337.14160703j, ...,\n",
       "         4.10279883e+04 -18224.74759131j,\n",
       "        -2.75908193e+03-124335.44765277j,\n",
       "        -9.68635384e+04 +98121.09325272j],\n",
       "       ...,\n",
       "       [ 4.38552036e+03 +41192.21735455j,\n",
       "        -1.18987335e+03 +92152.3470731j ,\n",
       "        -2.61726754e+04+155908.5367645j , ...,\n",
       "        -1.62854836e+05  -2604.55486172j,\n",
       "         1.36954494e+05 +31318.66293422j,\n",
       "         5.83676506e+03 -70924.25320483j],\n",
       "       [-5.46022176e+04 -71290.26026384j,\n",
       "        -9.68635384e+04 -98121.09325272j,\n",
       "        -2.75908193e+03+124335.44765277j, ...,\n",
       "        -6.84434742e+04 -91296.87819629j,\n",
       "         9.70889191e+04 +45337.14160703j,\n",
       "        -2.26503769e+05 +27787.89026422j],\n",
       "       [ 1.13964069e+05 +98048.5699259j ,\n",
       "        -7.66928630e+04 +54615.42467222j,\n",
       "         1.44164172e+04+138661.04652137j, ...,\n",
       "         8.01445042e+04 -73847.0117239j ,\n",
       "         4.59862700e+04 -35675.71099994j,\n",
       "        -6.74948891e+04 -18873.89004452j]])"
      ]
     },
     "execution_count": 31,
     "metadata": {},
     "output_type": "execute_result"
    }
   ],
   "source": [
    "%%time\n",
    "\n",
    "fft.fftn(list_cpu)"
   ]
  },
  {
   "cell_type": "code",
   "execution_count": 32,
   "id": "a73d6744-e20e-4f88-9ddb-20ce6889d333",
   "metadata": {},
   "outputs": [],
   "source": [
    "from cupyx.scipy import fft as fft_gpu"
   ]
  },
  {
   "cell_type": "code",
   "execution_count": 33,
   "id": "539a36c2-92ea-4772-bdc2-0afa6a5377f7",
   "metadata": {},
   "outputs": [
    {
     "name": "stdout",
     "output_type": "stream",
     "text": [
      "CPU times: total: 46.9 ms\n",
      "Wall time: 576 ms\n"
     ]
    },
    {
     "data": {
      "text/plain": [
       "array([[ 5.07937269e+08     +0.j        ,\n",
       "        -1.77156125e+05 -34478.27514732j,\n",
       "        -5.96031757e+04 -15215.33358875j, ...,\n",
       "         2.38748078e+04 +93893.91261536j,\n",
       "        -5.96031757e+04 +15215.33358875j,\n",
       "        -1.77156125e+05 +34478.27514732j],\n",
       "       [ 1.13964069e+05 -98048.5699259j ,\n",
       "        -6.74948891e+04 +18873.89004452j,\n",
       "         4.59862700e+04 +35675.71099994j, ...,\n",
       "         6.39125234e+04+123186.51136109j,\n",
       "         1.44164172e+04-138661.04652137j,\n",
       "        -7.66928630e+04 -54615.42467222j],\n",
       "       [-5.46022176e+04 +71290.26026384j,\n",
       "        -2.26503769e+05 -27787.89026422j,\n",
       "         9.70889191e+04 -45337.14160703j, ...,\n",
       "         4.10279883e+04 -18224.74759131j,\n",
       "        -2.75908193e+03-124335.44765277j,\n",
       "        -9.68635384e+04 +98121.09325272j],\n",
       "       ...,\n",
       "       [ 4.38552036e+03 +41192.21735455j,\n",
       "        -1.18987335e+03 +92152.3470731j ,\n",
       "        -2.61726754e+04+155908.5367645j , ...,\n",
       "        -1.62854836e+05  -2604.55486172j,\n",
       "         1.36954494e+05 +31318.66293422j,\n",
       "         5.83676506e+03 -70924.25320483j],\n",
       "       [-5.46022176e+04 -71290.26026384j,\n",
       "        -9.68635384e+04 -98121.09325272j,\n",
       "        -2.75908193e+03+124335.44765277j, ...,\n",
       "        -6.84434742e+04 -91296.87819629j,\n",
       "         9.70889191e+04 +45337.14160703j,\n",
       "        -2.26503769e+05 +27787.89026422j],\n",
       "       [ 1.13964069e+05 +98048.5699259j ,\n",
       "        -7.66928630e+04 +54615.42467222j,\n",
       "         1.44164172e+04+138661.04652137j, ...,\n",
       "         8.01445042e+04 -73847.0117239j ,\n",
       "         4.59862700e+04 -35675.71099994j,\n",
       "        -6.74948891e+04 -18873.89004452j]])"
      ]
     },
     "execution_count": 33,
     "metadata": {},
     "output_type": "execute_result"
    }
   ],
   "source": [
    "%%time\n",
    "\n",
    "fft_gpu.fftn(list_gpu)"
   ]
  },
  {
   "cell_type": "markdown",
   "id": "08e20e2e-d83e-4042-ba49-83393535c323",
   "metadata": {},
   "source": [
    "##communicating between cpu and gpu"
   ]
  },
  {
   "cell_type": "code",
   "execution_count": 34,
   "id": "45560735-209d-45b3-a87b-388fdc5d096f",
   "metadata": {},
   "outputs": [
    {
     "data": {
      "text/plain": [
       "True"
      ]
     },
     "execution_count": 34,
     "metadata": {},
     "output_type": "execute_result"
    }
   ],
   "source": [
    " fft_cpu = fft.fftn(list_cpu)\n",
    "    \n",
    "fft_send_back = cp.asnumpy(fft_gpu.fftn(list_gpu))\n",
    "\n",
    "np.allclose(fft_send_back,fft_cpu)"
   ]
  },
  {
   "cell_type": "markdown",
   "id": "6ba24716-c566-4592-ab21-6b4c6209fd1f",
   "metadata": {},
   "source": [
    "#CUDA\n",
    "link : https://numba.readthedocs.io/en/stable/cuda/kernels.html#kernel-invocation"
   ]
  },
  {
   "cell_type": "code",
   "execution_count": 35,
   "id": "2866dcfa-e60c-4894-903c-36196777e366",
   "metadata": {},
   "outputs": [],
   "source": [
    "from numba import cuda\n",
    "import cupy as cp\n",
    "import math"
   ]
  },
  {
   "cell_type": "code",
   "execution_count": 36,
   "id": "eeb21175-3762-4c37-98eb-e465022fb1e5",
   "metadata": {},
   "outputs": [
    {
     "name": "stdout",
     "output_type": "stream",
     "text": [
      "Found 1 CUDA devices\n",
      "id 0    b'NVIDIA GeForce RTX 3080 Ti Laptop GPU'                              [SUPPORTED]\n",
      "                      Compute Capability: 8.6\n",
      "                           PCI Device ID: 0\n",
      "                              PCI Bus ID: 1\n",
      "                                    UUID: GPU-892b381c-02c1-7a90-1a6c-77164f75e2c2\n",
      "                                Watchdog: Enabled\n",
      "                            Compute Mode: WDDM\n",
      "             FP32/FP64 Performance Ratio: 32\n",
      "Summary:\n",
      "\t1/1 devices are supported\n"
     ]
    },
    {
     "data": {
      "text/plain": [
       "True"
      ]
     },
     "execution_count": 36,
     "metadata": {},
     "output_type": "execute_result"
    }
   ],
   "source": [
    "cuda.detect()"
   ]
  },
  {
   "cell_type": "code",
   "execution_count": 37,
   "id": "5e398567-86f0-489b-be3c-394c262f5059",
   "metadata": {},
   "outputs": [],
   "source": [
    "@cuda.jit\n",
    "def increment_by_one(an_array):\n",
    "    # Thread id in a 1D block\n",
    "    tx = cuda.threadIdx.x\n",
    "    # Block id in a 1D grid\n",
    "    ty = cuda.blockIdx.x\n",
    "    # Block width, i.e. number of threads per block\n",
    "    bw = cuda.blockDim.x\n",
    "    # Compute flattened index inside the array\n",
    "    pos = tx + ty * bw\n",
    "    if pos < an_array.size:  # Check array boundaries\n",
    "        an_array[pos] += 1"
   ]
  },
  {
   "cell_type": "code",
   "execution_count": 40,
   "id": "5db818f5-1422-4dc9-aca5-4ba16e9b841b",
   "metadata": {},
   "outputs": [],
   "source": [
    "@cuda.jit\n",
    "def increment_by_one(an_array):\n",
    "    pos = cuda.grid(1)\n",
    "    if pos < an_array.size:\n",
    "        an_array[pos] += 1\n"
   ]
  },
  {
   "cell_type": "code",
   "execution_count": null,
   "id": "5287a05b-7eff-4750-a22e-fea6a8b6c827",
   "metadata": {},
   "outputs": [],
   "source": []
  },
  {
   "cell_type": "code",
   "execution_count": null,
   "id": "12bb80ee-ed60-4501-8639-f585d1d02234",
   "metadata": {},
   "outputs": [],
   "source": []
  },
  {
   "cell_type": "code",
   "execution_count": null,
   "id": "b5bb0d71-c882-4b22-8bcd-f47c9895a104",
   "metadata": {},
   "outputs": [],
   "source": []
  },
  {
   "cell_type": "code",
   "execution_count": null,
   "id": "3af98b19-188d-494f-9ece-64bd53b8c9fc",
   "metadata": {},
   "outputs": [],
   "source": []
  },
  {
   "cell_type": "code",
   "execution_count": null,
   "id": "322cbab3-ab7f-45b3-a6c5-da5063814bf0",
   "metadata": {},
   "outputs": [],
   "source": []
  },
  {
   "cell_type": "code",
   "execution_count": 1,
   "id": "f178362b-c4c2-40e1-a1c0-a7160944f204",
   "metadata": {},
   "outputs": [
    {
     "name": "stdout",
     "output_type": "stream",
     "text": [
      "hello\n"
     ]
    }
   ],
   "source": [
    "print(\"hello\")"
   ]
  },
  {
   "cell_type": "code",
   "execution_count": 3,
   "id": "29ed5b52-e54e-4a15-afb4-4340acbbed0c",
   "metadata": {},
   "outputs": [],
   "source": [
    "import torch"
   ]
  },
  {
   "cell_type": "code",
   "execution_count": 4,
   "id": "7fbc1198-d0cf-47ea-9dbd-177bbdfcd130",
   "metadata": {},
   "outputs": [
    {
     "data": {
      "text/plain": [
       "True"
      ]
     },
     "execution_count": 4,
     "metadata": {},
     "output_type": "execute_result"
    }
   ],
   "source": [
    "torch.cuda.is_available()"
   ]
  },
  {
   "cell_type": "code",
   "execution_count": null,
   "id": "f2d35ccc-867f-45fa-9927-eb8dd60aa863",
   "metadata": {},
   "outputs": [],
   "source": []
  }
 ],
 "metadata": {
  "kernelspec": {
   "display_name": "Python 3 (ipykernel)",
   "language": "python",
   "name": "python3"
  },
  "language_info": {
   "codemirror_mode": {
    "name": "ipython",
    "version": 3
   },
   "file_extension": ".py",
   "mimetype": "text/x-python",
   "name": "python",
   "nbconvert_exporter": "python",
   "pygments_lexer": "ipython3",
   "version": "3.9.15"
  }
 },
 "nbformat": 4,
 "nbformat_minor": 5
}
