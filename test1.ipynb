{
 "cells": [
  {
   "cell_type": "code",
   "execution_count": 29,
   "id": "6fde6e9a-9100-4656-8ff9-2ce36f64bf4c",
   "metadata": {},
   "outputs": [],
   "source": [
    "import tensorflow as tf\n",
    "from tensorflow import keras"
   ]
  },
  {
   "cell_type": "code",
   "execution_count": 30,
   "id": "45495f37-9b58-4921-bbd8-a960e3cff8a8",
   "metadata": {},
   "outputs": [
    {
     "name": "stdout",
     "output_type": "stream",
     "text": [
      "Num Gpus Avaliable:  1\n"
     ]
    }
   ],
   "source": [
    "print(\"Num Gpus Avaliable: \",len(tf.config.experimental.list_physical_devices(\"GPU\")))"
   ]
  },
  {
   "cell_type": "code",
   "execution_count": 31,
   "id": "1d1a9098-8b70-4d28-a9fa-10252f74853c",
   "metadata": {},
   "outputs": [
    {
     "data": {
      "text/plain": [
       "True"
      ]
     },
     "execution_count": 31,
     "metadata": {},
     "output_type": "execute_result"
    }
   ],
   "source": [
    "tf.test.is_built_with_cuda()"
   ]
  },
  {
   "cell_type": "code",
   "execution_count": 32,
   "id": "1eb3a236-efc7-4550-ac54-c7ebcb6fe435",
   "metadata": {},
   "outputs": [
    {
     "data": {
      "text/plain": [
       "[PhysicalDevice(name='/physical_device:GPU:0', device_type='GPU')]"
      ]
     },
     "execution_count": 32,
     "metadata": {},
     "output_type": "execute_result"
    }
   ],
   "source": [
    "tf.config.experimental.list_physical_devices(\"GPU\")"
   ]
  },
  {
   "cell_type": "code",
   "execution_count": 33,
   "id": "8723f76a-62d4-4d50-bd2b-2e16364a2f89",
   "metadata": {},
   "outputs": [
    {
     "name": "stdout",
     "output_type": "stream",
     "text": [
      "2.6.0\n"
     ]
    }
   ],
   "source": [
    "print(tf.version.VERSION)"
   ]
  },
  {
   "cell_type": "code",
   "execution_count": 34,
   "id": "00fadb09-02b5-4529-a9ba-7191c2d07215",
   "metadata": {},
   "outputs": [
    {
     "data": {
      "text/plain": [
       "'3.9.15 (main, Nov 24 2022, 14:39:17) [MSC v.1916 64 bit (AMD64)]'"
      ]
     },
     "execution_count": 34,
     "metadata": {},
     "output_type": "execute_result"
    }
   ],
   "source": [
    "import sys\n",
    "sys.version"
   ]
  },
  {
   "cell_type": "code",
   "execution_count": 35,
   "id": "e5649549-360c-4923-8e3e-cedc3640219a",
   "metadata": {},
   "outputs": [
    {
     "name": "stdout",
     "output_type": "stream",
     "text": [
      "Your runtime has 34.0 gigabytes of available RAM\n",
      "\n",
      "You are using a high-RAM runtime!\n"
     ]
    }
   ],
   "source": [
    "from psutil import virtual_memory\n",
    "ram_gb = virtual_memory().total / 1e9\n",
    "print('Your runtime has {:.1f} gigabytes of available RAM\\n'.format(ram_gb))\n",
    "\n",
    "if ram_gb < 20:\n",
    "  print('Not using a high-RAM runtime')\n",
    "else:\n",
    "  print('You are using a high-RAM runtime!')"
   ]
  },
  {
   "cell_type": "code",
   "execution_count": 36,
   "id": "65be0f72-ab99-434f-b276-47e69e4c2eec",
   "metadata": {},
   "outputs": [
    {
     "name": "stdout",
     "output_type": "stream",
     "text": [
      "Default GPU Device:/device:GPU:0\n",
      "Fri Mar 10 13:35:00 2023       \n",
      "+-----------------------------------------------------------------------------+\n",
      "| NVIDIA-SMI 517.00       Driver Version: 517.00       CUDA Version: 11.7     |\n",
      "|-------------------------------+----------------------+----------------------+\n",
      "| GPU  Name            TCC/WDDM | Bus-Id        Disp.A | Volatile Uncorr. ECC |\n",
      "| Fan  Temp  Perf  Pwr:Usage/Cap|         Memory-Usage | GPU-Util  Compute M. |\n",
      "|                               |                      |               MIG M. |\n",
      "|===============================+======================+======================|\n",
      "|   0  NVIDIA GeForce ... WDDM  | 00000000:01:00.0 Off |                  N/A |\n",
      "| N/A   54C    P8    13W /  N/A |    309MiB / 16384MiB |      0%      Default |\n",
      "|                               |                      |                  N/A |\n",
      "+-------------------------------+----------------------+----------------------+\n",
      "                                                                               \n",
      "+-----------------------------------------------------------------------------+\n",
      "| Processes:                                                                  |\n",
      "|  GPU   GI   CI        PID   Type   Process name                  GPU Memory |\n",
      "|        ID   ID                                                   Usage      |\n",
      "|=============================================================================|\n",
      "|    0   N/A  N/A     30144      C   ...envs\\TitanoBoa\\python.exe    N/A      |\n",
      "+-----------------------------------------------------------------------------+\n"
     ]
    }
   ],
   "source": [
    "if tf.test.gpu_device_name(): \n",
    "\n",
    "    print('Default GPU Device:{}'.format(tf.test.gpu_device_name()))\n",
    "\n",
    "else:\n",
    "\n",
    "   print(\"Please install GPU version of TF\")\n",
    "\n",
    "gpu_info = !nvidia-smi\n",
    "gpu_info = '\\n'.join(gpu_info)\n",
    "if gpu_info.find('failed') >= 0:\n",
    "  print('Not connected to a GPU')\n",
    "else:\n",
    "  print(gpu_info)\n"
   ]
  },
  {
   "cell_type": "code",
   "execution_count": 37,
   "id": "452dece5-d4a7-43f3-8a5a-e0f0bc6be117",
   "metadata": {},
   "outputs": [],
   "source": [
    "import numpy as np"
   ]
  },
  {
   "cell_type": "code",
   "execution_count": 38,
   "id": "21ad5220-571e-4575-8aca-613cb5db5d27",
   "metadata": {},
   "outputs": [],
   "source": [
    "def MultiplyVect(a,b,c):\n",
    "    for i in range(a.size):\n",
    "        c[i] = a[i]*b[i]\n",
    "        "
   ]
  },
  {
   "cell_type": "code",
   "execution_count": 39,
   "id": "714ea9f5-9c27-4b57-81fb-a65227ff4c87",
   "metadata": {},
   "outputs": [],
   "source": [
    "N = 64000000\n",
    "A = np.ones(N,dtype = np.float32)\n",
    "B = np.ones(N,dtype = np.float32) \n",
    "C = np.ones(N,dtype = np.float32)"
   ]
  },
  {
   "cell_type": "code",
   "execution_count": 40,
   "id": "7132c798-9b5b-41b5-9e71-d6e900f30962",
   "metadata": {},
   "outputs": [
    {
     "name": "stdout",
     "output_type": "stream",
     "text": [
      "CPU times: total: 28.1 s\n",
      "Wall time: 34.3 s\n"
     ]
    }
   ],
   "source": [
    "%%time\n",
    "MultiplyVect(A,B,C)"
   ]
  },
  {
   "cell_type": "markdown",
   "id": "5e91d254-c54f-450e-8407-d426bb0695e6",
   "metadata": {},
   "source": [
    "#Cupy"
   ]
  },
  {
   "cell_type": "code",
   "execution_count": 42,
   "id": "7df35ad2-3f57-4cbe-b439-08405c8ae299",
   "metadata": {},
   "outputs": [],
   "source": [
    "import cupy as cp"
   ]
  },
  {
   "cell_type": "code",
   "execution_count": 50,
   "id": "7cfb4a3c-7859-46b3-9705-5efda9573943",
   "metadata": {},
   "outputs": [],
   "source": [
    "import numpy as np"
   ]
  },
  {
   "cell_type": "code",
   "execution_count": 56,
   "id": "c4cb8910-97f6-4de5-9234-88f9631957a5",
   "metadata": {},
   "outputs": [],
   "source": [
    "list_cpu = np.random.randint(0,255, size = (2000,2000))"
   ]
  },
  {
   "cell_type": "code",
   "execution_count": 57,
   "id": "9147b18c-9f40-496f-a9f5-ae5c749be837",
   "metadata": {},
   "outputs": [
    {
     "data": {
      "text/plain": [
       "array([[ 30, 171, 119, ..., 108, 125, 201],\n",
       "       [ 47,  46, 125, ...,  94,  22,  27],\n",
       "       [ 14,  73, 133, ..., 206, 154, 184],\n",
       "       ...,\n",
       "       [  9,  47,  54, ..., 246, 163, 202],\n",
       "       [ 18, 214,   7, ..., 145,  88, 246],\n",
       "       [ 66, 227,  45, ..., 242, 198, 180]])"
      ]
     },
     "execution_count": 57,
     "metadata": {},
     "output_type": "execute_result"
    }
   ],
   "source": [
    "list_cpu"
   ]
  },
  {
   "cell_type": "code",
   "execution_count": 58,
   "id": "58c6c90d-840b-4055-a524-faab45078f2a",
   "metadata": {},
   "outputs": [
    {
     "data": {
      "text/plain": [
       "16.0"
      ]
     },
     "execution_count": 58,
     "metadata": {},
     "output_type": "execute_result"
    }
   ],
   "source": [
    "list_cpu.nbytes/1e6"
   ]
  },
  {
   "cell_type": "code",
   "execution_count": 59,
   "id": "ef7e810c-2c3e-4c55-8621-1a914ad97980",
   "metadata": {},
   "outputs": [],
   "source": [
    "list_gpu = cp.asarray(list_cpu)"
   ]
  },
  {
   "cell_type": "code",
   "execution_count": 60,
   "id": "ec6b21eb-dea6-4630-b174-06aad3d2f1bd",
   "metadata": {},
   "outputs": [
    {
     "data": {
      "text/plain": [
       "array([[ 30, 171, 119, ..., 108, 125, 201],\n",
       "       [ 47,  46, 125, ...,  94,  22,  27],\n",
       "       [ 14,  73, 133, ..., 206, 154, 184],\n",
       "       ...,\n",
       "       [  9,  47,  54, ..., 246, 163, 202],\n",
       "       [ 18, 214,   7, ..., 145,  88, 246],\n",
       "       [ 66, 227,  45, ..., 242, 198, 180]])"
      ]
     },
     "execution_count": 60,
     "metadata": {},
     "output_type": "execute_result"
    }
   ],
   "source": [
    "list_gpu"
   ]
  },
  {
   "cell_type": "code",
   "execution_count": 63,
   "id": "393c4004-6d65-414c-a85a-bd65f4e44267",
   "metadata": {},
   "outputs": [
    {
     "name": "stdout",
     "output_type": "stream",
     "text": [
      "2.39 ms ± 202 µs per loop (mean ± std. dev. of 7 runs, 100 loops each)\n"
     ]
    }
   ],
   "source": [
    "%%timeit\n",
    "\n",
    "list_gpu = cp.asarray(list_cpu)"
   ]
  },
  {
   "cell_type": "code",
   "execution_count": 64,
   "id": "42b54117-7af4-45b8-a075-e74c096fd2d7",
   "metadata": {},
   "outputs": [],
   "source": [
    "from scipy import fft"
   ]
  },
  {
   "cell_type": "code",
   "execution_count": 70,
   "id": "0f9eb1bf-eac5-46a5-8c6e-cb48db9fc6bb",
   "metadata": {},
   "outputs": [
    {
     "name": "stdout",
     "output_type": "stream",
     "text": [
      "CPU times: total: 93.8 ms\n",
      "Wall time: 168 ms\n"
     ]
    },
    {
     "data": {
      "text/plain": [
       "array([[ 5.07846218e+08     -0.j        ,\n",
       "        -1.26155785e+05 +95035.53952556j,\n",
       "         3.69822281e+04-102649.34863362j, ...,\n",
       "         2.98457030e+03+192340.49124062j,\n",
       "         3.69822281e+04+102649.34863362j,\n",
       "        -1.26155785e+05 -95035.53952556j],\n",
       "       [-4.48553552e+04  -5155.23924437j,\n",
       "         1.08361276e+05 -44357.68506343j,\n",
       "        -9.39989949e+04+177097.75742447j, ...,\n",
       "         8.35742885e+04 +35358.9539537j ,\n",
       "        -6.35518721e+02 -40638.40270254j,\n",
       "         3.53542261e+04  -4173.81413861j],\n",
       "       [-1.41053866e+05+165739.16091552j,\n",
       "        -1.26007949e+05 -13810.15540392j,\n",
       "         3.99190257e+04 -28125.69614712j, ...,\n",
       "        -4.52363035e+04  +2551.65812785j,\n",
       "         2.37147631e+04 +22298.23800118j,\n",
       "         1.28097970e+05-176507.32769615j],\n",
       "       ...,\n",
       "       [ 1.50750030e+04 -62805.43643079j,\n",
       "        -6.36307121e+04-135596.62090917j,\n",
       "         6.36880655e+04 +20845.26565192j, ...,\n",
       "         1.89620220e+04 -98458.18476066j,\n",
       "         3.39131941e+04-114652.51851373j,\n",
       "        -4.14503952e+04 +55237.04746802j],\n",
       "       [-1.41053866e+05-165739.16091552j,\n",
       "         1.28097970e+05+176507.32769615j,\n",
       "         2.37147631e+04 -22298.23800118j, ...,\n",
       "         5.06997517e+04 +28198.61543421j,\n",
       "         3.99190257e+04 +28125.69614712j,\n",
       "        -1.26007949e+05 +13810.15540392j],\n",
       "       [-4.48553552e+04  +5155.23924437j,\n",
       "         3.53542261e+04  +4173.81413861j,\n",
       "        -6.35518721e+02 +40638.40270254j, ...,\n",
       "         7.89195979e+03 -19265.03056524j,\n",
       "        -9.39989949e+04-177097.75742447j,\n",
       "         1.08361276e+05 +44357.68506343j]])"
      ]
     },
     "execution_count": 70,
     "metadata": {},
     "output_type": "execute_result"
    }
   ],
   "source": [
    "%%time\n",
    "\n",
    "fft.fftn(list_cpu)"
   ]
  },
  {
   "cell_type": "code",
   "execution_count": 67,
   "id": "a73d6744-e20e-4f88-9ddb-20ce6889d333",
   "metadata": {},
   "outputs": [],
   "source": [
    "from cupyx.scipy import fft as fft_gpu"
   ]
  },
  {
   "cell_type": "code",
   "execution_count": 71,
   "id": "539a36c2-92ea-4772-bdc2-0afa6a5377f7",
   "metadata": {},
   "outputs": [
    {
     "name": "stdout",
     "output_type": "stream",
     "text": [
      "CPU times: total: 0 ns\n",
      "Wall time: 1.56 ms\n"
     ]
    },
    {
     "data": {
      "text/plain": [
       "array([[ 5.07846218e+08     +0.j        ,\n",
       "        -1.26155785e+05 +95035.53952556j,\n",
       "         3.69822281e+04-102649.34863362j, ...,\n",
       "         2.98457030e+03+192340.49124062j,\n",
       "         3.69822281e+04+102649.34863362j,\n",
       "        -1.26155785e+05 -95035.53952556j],\n",
       "       [-4.48553552e+04  -5155.23924437j,\n",
       "         1.08361276e+05 -44357.68506343j,\n",
       "        -9.39989949e+04+177097.75742447j, ...,\n",
       "         8.35742885e+04 +35358.9539537j ,\n",
       "        -6.35518721e+02 -40638.40270254j,\n",
       "         3.53542261e+04  -4173.81413861j],\n",
       "       [-1.41053866e+05+165739.16091552j,\n",
       "        -1.26007949e+05 -13810.15540392j,\n",
       "         3.99190257e+04 -28125.69614712j, ...,\n",
       "        -4.52363035e+04  +2551.65812785j,\n",
       "         2.37147631e+04 +22298.23800118j,\n",
       "         1.28097970e+05-176507.32769615j],\n",
       "       ...,\n",
       "       [ 1.50750030e+04 -62805.43643079j,\n",
       "        -6.36307121e+04-135596.62090917j,\n",
       "         6.36880655e+04 +20845.26565192j, ...,\n",
       "         1.89620220e+04 -98458.18476066j,\n",
       "         3.39131941e+04-114652.51851373j,\n",
       "        -4.14503952e+04 +55237.04746802j],\n",
       "       [-1.41053866e+05-165739.16091552j,\n",
       "         1.28097970e+05+176507.32769615j,\n",
       "         2.37147631e+04 -22298.23800118j, ...,\n",
       "         5.06997517e+04 +28198.61543421j,\n",
       "         3.99190257e+04 +28125.69614712j,\n",
       "        -1.26007949e+05 +13810.15540392j],\n",
       "       [-4.48553552e+04  +5155.23924437j,\n",
       "         3.53542261e+04  +4173.81413861j,\n",
       "        -6.35518721e+02 +40638.40270254j, ...,\n",
       "         7.89195979e+03 -19265.03056524j,\n",
       "        -9.39989949e+04-177097.75742447j,\n",
       "         1.08361276e+05 +44357.68506343j]])"
      ]
     },
     "execution_count": 71,
     "metadata": {},
     "output_type": "execute_result"
    }
   ],
   "source": [
    "%%time\n",
    "\n",
    "fft_gpu.fftn(list_gpu)"
   ]
  },
  {
   "cell_type": "markdown",
   "id": "08e20e2e-d83e-4042-ba49-83393535c323",
   "metadata": {},
   "source": [
    "##communicating between cpu and gpu"
   ]
  },
  {
   "cell_type": "code",
   "execution_count": 74,
   "id": "45560735-209d-45b3-a87b-388fdc5d096f",
   "metadata": {},
   "outputs": [
    {
     "data": {
      "text/plain": [
       "True"
      ]
     },
     "execution_count": 74,
     "metadata": {},
     "output_type": "execute_result"
    }
   ],
   "source": [
    " fft_cpu = fft.fftn(list_cpu)\n",
    "    \n",
    "fft_send_back = cp.asnumpy(fft_gpu.fftn(list_gpu))\n",
    "\n",
    "np.allclose(fft_send_back,fft_cpu)"
   ]
  },
  {
   "cell_type": "code",
   "execution_count": null,
   "id": "fc9f03e6-10c5-4759-8c61-9c6dbb3e0f5c",
   "metadata": {},
   "outputs": [],
   "source": []
  }
 ],
 "metadata": {
  "kernelspec": {
   "display_name": "Python 3 (ipykernel)",
   "language": "python",
   "name": "python3"
  },
  "language_info": {
   "codemirror_mode": {
    "name": "ipython",
    "version": 3
   },
   "file_extension": ".py",
   "mimetype": "text/x-python",
   "name": "python",
   "nbconvert_exporter": "python",
   "pygments_lexer": "ipython3",
   "version": "3.9.15"
  }
 },
 "nbformat": 4,
 "nbformat_minor": 5
}
