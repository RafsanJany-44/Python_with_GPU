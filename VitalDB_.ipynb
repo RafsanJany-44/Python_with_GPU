{
 "cells": [
  {
   "cell_type": "code",
   "execution_count": 1,
   "id": "47fc1a50-fdeb-4a5d-ad80-4002bee06612",
   "metadata": {},
   "outputs": [
    {
     "name": "stdout",
     "output_type": "stream",
     "text": [
      "Collecting pyvital\n",
      "  Downloading pyvital-0.3.5-py3-none-any.whl (4.9 MB)\n",
      "     ---------------------------------------- 4.9/4.9 MB 402.9 kB/s eta 0:00:00\n",
      "Collecting vitaldb\n",
      "  Downloading vitaldb-1.4.2-py3-none-any.whl (54 kB)\n",
      "     -------------------------------------- 55.0/55.0 kB 475.7 kB/s eta 0:00:00\n",
      "Collecting vital\n",
      "  Downloading vital-1.3.9-py3-none-any.whl (17 kB)\n",
      "Requirement already satisfied: PyWavelets in c:\\users\\razer\\anaconda3\\lib\\site-packages (from pyvital) (1.3.0)\n",
      "Requirement already satisfied: torch in c:\\users\\razer\\anaconda3\\lib\\site-packages (from pyvital) (1.12.1)\n",
      "Requirement already satisfied: numpy in c:\\users\\razer\\anaconda3\\lib\\site-packages (from pyvital) (1.23.2)\n",
      "Collecting sanic\n",
      "  Downloading sanic-23.6.0-py3-none-any.whl (202 kB)\n",
      "     ------------------------------------ 202.5/202.5 kB 351.5 kB/s eta 0:00:00\n",
      "Requirement already satisfied: tensorflow>=2.6 in c:\\users\\razer\\anaconda3\\lib\\site-packages (from pyvital) (2.11.0)\n",
      "Requirement already satisfied: scipy in c:\\users\\razer\\anaconda3\\lib\\site-packages (from pyvital) (1.9.1)\n",
      "Requirement already satisfied: keras in c:\\users\\razer\\anaconda3\\lib\\site-packages (from pyvital) (2.11.0)\n",
      "Requirement already satisfied: requests in c:\\users\\razer\\anaconda3\\lib\\site-packages (from vitaldb) (2.28.1)\n",
      "Collecting wfdb\n",
      "  Downloading wfdb-4.1.2-py3-none-any.whl (159 kB)\n",
      "     ------------------------------------ 160.0/160.0 kB 435.2 kB/s eta 0:00:00\n",
      "Requirement already satisfied: pandas in c:\\users\\razer\\anaconda3\\lib\\site-packages (from vitaldb) (1.4.4)\n",
      "Requirement already satisfied: PyJWT<3.0.0,>=2.0.1 in c:\\users\\razer\\anaconda3\\lib\\site-packages (from vital) (2.4.0)\n",
      "Collecting pydantic<2.0.0,>=1.10.7\n",
      "  Downloading pydantic-1.10.12-cp39-cp39-win_amd64.whl (2.2 MB)\n",
      "     ---------------------------------------- 2.2/2.2 MB 394.9 kB/s eta 0:00:00\n",
      "Requirement already satisfied: arrow in c:\\users\\razer\\anaconda3\\lib\\site-packages (from vital) (1.2.2)\n",
      "Collecting typed-ast<2.0.0,>=1.5.4\n",
      "  Downloading typed_ast-1.5.5-cp39-cp39-win_amd64.whl (139 kB)\n",
      "     ------------------------------------ 139.5/139.5 kB 552.3 kB/s eta 0:00:00\n",
      "Collecting svix<0.42.0,>=0.41.2\n",
      "  Downloading svix-0.41.2.tar.gz (75 kB)\n",
      "     -------------------------------------- 75.0/75.0 kB 594.1 kB/s eta 0:00:00\n",
      "  Installing build dependencies: started\n",
      "  Installing build dependencies: finished with status 'done'\n",
      "  Getting requirements to build wheel: started\n",
      "  Getting requirements to build wheel: finished with status 'done'\n",
      "  Preparing metadata (pyproject.toml): started\n",
      "  Preparing metadata (pyproject.toml): finished with status 'done'\n",
      "Collecting importlib-metadata<4.0.0,>=3.7.3\n",
      "  Downloading importlib_metadata-3.10.1-py3-none-any.whl (14 kB)\n",
      "Requirement already satisfied: zipp>=0.5 in c:\\users\\razer\\anaconda3\\lib\\site-packages (from importlib-metadata<4.0.0,>=3.7.3->vital) (3.8.0)\n",
      "Requirement already satisfied: typing-extensions>=4.2.0 in c:\\users\\razer\\anaconda3\\lib\\site-packages (from pydantic<2.0.0,>=1.10.7->vital) (4.3.0)\n",
      "Requirement already satisfied: python-dateutil in c:\\users\\razer\\anaconda3\\lib\\site-packages (from svix<0.42.0,>=0.41.2->vital) (2.8.2)\n",
      "Requirement already satisfied: urllib3>=1.25.3 in c:\\users\\razer\\anaconda3\\lib\\site-packages (from svix<0.42.0,>=0.41.2->vital) (1.26.11)\n",
      "Requirement already satisfied: tensorflow-intel==2.11.0 in c:\\users\\razer\\anaconda3\\lib\\site-packages (from tensorflow>=2.6->pyvital) (2.11.0)\n",
      "Requirement already satisfied: tensorflow-io-gcs-filesystem>=0.23.1 in c:\\users\\razer\\anaconda3\\lib\\site-packages (from tensorflow-intel==2.11.0->tensorflow>=2.6->pyvital) (0.31.0)\n",
      "Requirement already satisfied: protobuf<3.20,>=3.9.2 in c:\\users\\razer\\anaconda3\\lib\\site-packages (from tensorflow-intel==2.11.0->tensorflow>=2.6->pyvital) (3.19.6)\n",
      "Requirement already satisfied: gast<=0.4.0,>=0.2.1 in c:\\users\\razer\\anaconda3\\lib\\site-packages (from tensorflow-intel==2.11.0->tensorflow>=2.6->pyvital) (0.4.0)\n",
      "Requirement already satisfied: tensorboard<2.12,>=2.11 in c:\\users\\razer\\anaconda3\\lib\\site-packages (from tensorflow-intel==2.11.0->tensorflow>=2.6->pyvital) (2.11.2)\n",
      "Requirement already satisfied: flatbuffers>=2.0 in c:\\users\\razer\\anaconda3\\lib\\site-packages (from tensorflow-intel==2.11.0->tensorflow>=2.6->pyvital) (23.3.3)\n",
      "Requirement already satisfied: wrapt>=1.11.0 in c:\\users\\razer\\anaconda3\\lib\\site-packages (from tensorflow-intel==2.11.0->tensorflow>=2.6->pyvital) (1.14.1)\n",
      "Requirement already satisfied: h5py>=2.9.0 in c:\\users\\razer\\anaconda3\\lib\\site-packages (from tensorflow-intel==2.11.0->tensorflow>=2.6->pyvital) (3.7.0)\n",
      "Requirement already satisfied: absl-py>=1.0.0 in c:\\users\\razer\\anaconda3\\lib\\site-packages (from tensorflow-intel==2.11.0->tensorflow>=2.6->pyvital) (1.4.0)\n",
      "Requirement already satisfied: termcolor>=1.1.0 in c:\\users\\razer\\anaconda3\\lib\\site-packages (from tensorflow-intel==2.11.0->tensorflow>=2.6->pyvital) (2.2.0)\n",
      "Requirement already satisfied: packaging in c:\\users\\razer\\anaconda3\\lib\\site-packages (from tensorflow-intel==2.11.0->tensorflow>=2.6->pyvital) (21.3)\n",
      "Requirement already satisfied: astunparse>=1.6.0 in c:\\users\\razer\\anaconda3\\lib\\site-packages (from tensorflow-intel==2.11.0->tensorflow>=2.6->pyvital) (1.6.3)\n",
      "Requirement already satisfied: grpcio<2.0,>=1.24.3 in c:\\users\\razer\\anaconda3\\lib\\site-packages (from tensorflow-intel==2.11.0->tensorflow>=2.6->pyvital) (1.51.3)\n",
      "Requirement already satisfied: libclang>=13.0.0 in c:\\users\\razer\\anaconda3\\lib\\site-packages (from tensorflow-intel==2.11.0->tensorflow>=2.6->pyvital) (15.0.6.1)\n",
      "Requirement already satisfied: setuptools in c:\\users\\razer\\anaconda3\\lib\\site-packages (from tensorflow-intel==2.11.0->tensorflow>=2.6->pyvital) (63.4.1)\n",
      "Requirement already satisfied: tensorflow-estimator<2.12,>=2.11.0 in c:\\users\\razer\\anaconda3\\lib\\site-packages (from tensorflow-intel==2.11.0->tensorflow>=2.6->pyvital) (2.11.0)\n",
      "Requirement already satisfied: google-pasta>=0.1.1 in c:\\users\\razer\\anaconda3\\lib\\site-packages (from tensorflow-intel==2.11.0->tensorflow>=2.6->pyvital) (0.2.0)\n",
      "Requirement already satisfied: opt-einsum>=2.3.2 in c:\\users\\razer\\anaconda3\\lib\\site-packages (from tensorflow-intel==2.11.0->tensorflow>=2.6->pyvital) (3.3.0)\n",
      "Requirement already satisfied: six>=1.12.0 in c:\\users\\razer\\anaconda3\\lib\\site-packages (from tensorflow-intel==2.11.0->tensorflow>=2.6->pyvital) (1.16.0)\n",
      "Requirement already satisfied: pytz>=2020.1 in c:\\users\\razer\\anaconda3\\lib\\site-packages (from pandas->vitaldb) (2022.1)\n",
      "Requirement already satisfied: charset-normalizer<3,>=2 in c:\\users\\razer\\anaconda3\\lib\\site-packages (from requests->vitaldb) (2.0.4)\n",
      "Requirement already satisfied: certifi>=2017.4.17 in c:\\users\\razer\\anaconda3\\lib\\site-packages (from requests->vitaldb) (2022.12.7)\n",
      "Requirement already satisfied: idna<4,>=2.5 in c:\\users\\razer\\anaconda3\\lib\\site-packages (from requests->vitaldb) (3.3)\n",
      "Collecting html5tagger>=1.2.1\n",
      "  Downloading html5tagger-1.3.0-py3-none-any.whl (10 kB)\n",
      "Collecting typing-extensions>=4.2.0\n",
      "  Downloading typing_extensions-4.7.1-py3-none-any.whl (33 kB)\n",
      "Collecting aiofiles>=0.6.0\n",
      "  Downloading aiofiles-23.1.0-py3-none-any.whl (14 kB)\n",
      "Collecting sanic-routing>=23.6.0\n",
      "  Downloading sanic_routing-23.6.0-py3-none-any.whl (25 kB)\n",
      "Collecting httptools>=0.0.10\n",
      "  Downloading httptools-0.6.0-cp39-cp39-win_amd64.whl (147 kB)\n",
      "     ------------------------------------ 147.5/147.5 kB 676.2 kB/s eta 0:00:00\n",
      "Collecting multidict<7.0,>=5.0\n",
      "  Using cached multidict-6.0.4-cp39-cp39-win_amd64.whl (28 kB)\n",
      "Collecting tracerite>=1.0.0\n",
      "  Downloading tracerite-1.1.0-py3-none-any.whl (12 kB)\n",
      "Collecting websockets>=10.0\n",
      "  Downloading websockets-11.0.3-cp39-cp39-win_amd64.whl (124 kB)\n",
      "     ------------------------------------ 124.7/124.7 kB 611.9 kB/s eta 0:00:00\n",
      "Requirement already satisfied: matplotlib>=3.2.2 in c:\\users\\razer\\anaconda3\\lib\\site-packages (from wfdb->vitaldb) (3.6.2)\n",
      "Collecting SoundFile>=0.10.0\n",
      "  Downloading soundfile-0.12.1-py2.py3-none-win_amd64.whl (1.0 MB)\n",
      "     ---------------------------------------- 1.0/1.0 MB 560.8 kB/s eta 0:00:00\n",
      "Requirement already satisfied: fonttools>=4.22.0 in c:\\users\\razer\\anaconda3\\lib\\site-packages (from matplotlib>=3.2.2->wfdb->vitaldb) (4.25.0)\n",
      "Requirement already satisfied: kiwisolver>=1.0.1 in c:\\users\\razer\\anaconda3\\lib\\site-packages (from matplotlib>=3.2.2->wfdb->vitaldb) (1.4.2)\n",
      "Requirement already satisfied: pyparsing>=2.2.1 in c:\\users\\razer\\anaconda3\\lib\\site-packages (from matplotlib>=3.2.2->wfdb->vitaldb) (3.0.9)\n",
      "Requirement already satisfied: contourpy>=1.0.1 in c:\\users\\razer\\anaconda3\\lib\\site-packages (from matplotlib>=3.2.2->wfdb->vitaldb) (1.0.7)\n",
      "Requirement already satisfied: pillow>=6.2.0 in c:\\users\\razer\\anaconda3\\lib\\site-packages (from matplotlib>=3.2.2->wfdb->vitaldb) (9.2.0)\n",
      "Requirement already satisfied: cycler>=0.10 in c:\\users\\razer\\anaconda3\\lib\\site-packages (from matplotlib>=3.2.2->wfdb->vitaldb) (0.11.0)\n",
      "Requirement already satisfied: cffi>=1.0 in c:\\users\\razer\\anaconda3\\lib\\site-packages (from SoundFile>=0.10.0->wfdb->vitaldb) (1.15.1)\n",
      "Requirement already satisfied: wheel<1.0,>=0.23.0 in c:\\users\\razer\\anaconda3\\lib\\site-packages (from astunparse>=1.6.0->tensorflow-intel==2.11.0->tensorflow>=2.6->pyvital) (0.37.1)\n",
      "Requirement already satisfied: pycparser in c:\\users\\razer\\anaconda3\\lib\\site-packages (from cffi>=1.0->SoundFile>=0.10.0->wfdb->vitaldb) (2.21)\n",
      "Requirement already satisfied: tensorboard-data-server<0.7.0,>=0.6.0 in c:\\users\\razer\\anaconda3\\lib\\site-packages (from tensorboard<2.12,>=2.11->tensorflow-intel==2.11.0->tensorflow>=2.6->pyvital) (0.6.1)\n",
      "Requirement already satisfied: werkzeug>=1.0.1 in c:\\users\\razer\\anaconda3\\lib\\site-packages (from tensorboard<2.12,>=2.11->tensorflow-intel==2.11.0->tensorflow>=2.6->pyvital) (2.0.3)\n",
      "Requirement already satisfied: markdown>=2.6.8 in c:\\users\\razer\\anaconda3\\lib\\site-packages (from tensorboard<2.12,>=2.11->tensorflow-intel==2.11.0->tensorflow>=2.6->pyvital) (3.3.4)\n",
      "Requirement already satisfied: google-auth-oauthlib<0.5,>=0.4.1 in c:\\users\\razer\\anaconda3\\lib\\site-packages (from tensorboard<2.12,>=2.11->tensorflow-intel==2.11.0->tensorflow>=2.6->pyvital) (0.4.6)\n",
      "Requirement already satisfied: tensorboard-plugin-wit>=1.6.0 in c:\\users\\razer\\anaconda3\\lib\\site-packages (from tensorboard<2.12,>=2.11->tensorflow-intel==2.11.0->tensorflow>=2.6->pyvital) (1.8.1)\n",
      "Requirement already satisfied: google-auth<3,>=1.6.3 in c:\\users\\razer\\anaconda3\\lib\\site-packages (from tensorboard<2.12,>=2.11->tensorflow-intel==2.11.0->tensorflow>=2.6->pyvital) (2.16.2)\n",
      "Requirement already satisfied: cachetools<6.0,>=2.0.0 in c:\\users\\razer\\anaconda3\\lib\\site-packages (from google-auth<3,>=1.6.3->tensorboard<2.12,>=2.11->tensorflow-intel==2.11.0->tensorflow>=2.6->pyvital) (5.3.0)\n",
      "Requirement already satisfied: rsa<5,>=3.1.4 in c:\\users\\razer\\anaconda3\\lib\\site-packages (from google-auth<3,>=1.6.3->tensorboard<2.12,>=2.11->tensorflow-intel==2.11.0->tensorflow>=2.6->pyvital) (4.9)\n",
      "Requirement already satisfied: pyasn1-modules>=0.2.1 in c:\\users\\razer\\anaconda3\\lib\\site-packages (from google-auth<3,>=1.6.3->tensorboard<2.12,>=2.11->tensorflow-intel==2.11.0->tensorflow>=2.6->pyvital) (0.2.8)\n",
      "Requirement already satisfied: requests-oauthlib>=0.7.0 in c:\\users\\razer\\anaconda3\\lib\\site-packages (from google-auth-oauthlib<0.5,>=0.4.1->tensorboard<2.12,>=2.11->tensorflow-intel==2.11.0->tensorflow>=2.6->pyvital) (1.3.1)\n",
      "Requirement already satisfied: pyasn1<0.5.0,>=0.4.6 in c:\\users\\razer\\anaconda3\\lib\\site-packages (from pyasn1-modules>=0.2.1->google-auth<3,>=1.6.3->tensorboard<2.12,>=2.11->tensorflow-intel==2.11.0->tensorflow>=2.6->pyvital) (0.4.8)\n",
      "Requirement already satisfied: oauthlib>=3.0.0 in c:\\users\\razer\\anaconda3\\lib\\site-packages (from requests-oauthlib>=0.7.0->google-auth-oauthlib<0.5,>=0.4.1->tensorboard<2.12,>=2.11->tensorflow-intel==2.11.0->tensorflow>=2.6->pyvital) (3.2.2)\n",
      "Building wheels for collected packages: svix\n",
      "  Building wheel for svix (pyproject.toml): started\n",
      "  Building wheel for svix (pyproject.toml): finished with status 'done'\n",
      "  Created wheel for svix: filename=svix-0.41.2-py3-none-any.whl size=274076 sha256=414d070caf1bc592dced52d156aa8b5b1aa800696948936c3061fd88c3c8aedc\n",
      "  Stored in directory: c:\\users\\razer\\appdata\\local\\pip\\cache\\wheels\\80\\86\\6e\\92eed3f0438b56d2c2b3dc1151c74193b4b67d1ba80f357ad5\n",
      "Successfully built svix\n",
      "Installing collected packages: sanic-routing, websockets, typing-extensions, typed-ast, multidict, importlib-metadata, httptools, html5tagger, aiofiles, tracerite, svix, SoundFile, pydantic, wfdb, vital, sanic, vitaldb, pyvital\n",
      "  Attempting uninstall: typing-extensions\n",
      "    Found existing installation: typing_extensions 4.3.0\n",
      "    Uninstalling typing_extensions-4.3.0:\n",
      "      Successfully uninstalled typing_extensions-4.3.0\n",
      "  Attempting uninstall: importlib-metadata\n",
      "    Found existing installation: importlib-metadata 4.11.3\n",
      "    Uninstalling importlib-metadata-4.11.3:\n",
      "      Successfully uninstalled importlib-metadata-4.11.3\n",
      "Successfully installed SoundFile-0.12.1 aiofiles-23.1.0 html5tagger-1.3.0 httptools-0.6.0 importlib-metadata-3.10.1 multidict-6.0.4 pydantic-1.10.12 pyvital-0.3.5 sanic-23.6.0 sanic-routing-23.6.0 svix-0.41.2 tracerite-1.1.0 typed-ast-1.5.5 typing-extensions-4.7.1 vital-1.3.9 vitaldb-1.4.2 websockets-11.0.3 wfdb-4.1.2\n"
     ]
    },
    {
     "name": "stderr",
     "output_type": "stream",
     "text": [
      "ERROR: pip's dependency resolver does not currently take into account all the packages that are installed. This behaviour is the source of the following dependency conflicts.\n",
      "sphinx 5.0.2 requires importlib-metadata>=4.4; python_version < \"3.10\", but you have importlib-metadata 3.10.1 which is incompatible.\n"
     ]
    }
   ],
   "source": [
    "!pip install pyvital vitaldb vital"
   ]
  },
  {
   "cell_type": "code",
   "execution_count": 2,
   "id": "09ab4741-7c9d-45fd-a08b-a09dcf05cc0e",
   "metadata": {},
   "outputs": [],
   "source": [
    "import vitaldb\n",
    "import numpy as np\n",
    "import pandas as pd\n",
    "from tqdm.notebook import tqdm"
   ]
  },
  {
   "cell_type": "code",
   "execution_count": 3,
   "id": "b88fba1d-c7a8-45ab-be6e-05641b394980",
   "metadata": {},
   "outputs": [],
   "source": [
    "Hemodynamic_Parameters = [\n",
    "'Solar8000/ST_II',\n",
    "'Solar8000/ST_VI',\n",
    "'Solar8000/ART_DBP',\n",
    "'Solar8000/ART_SBP'\n",
    "]"
   ]
  },
  {
   "cell_type": "code",
   "execution_count": 4,
   "id": "db806766-36f4-4549-89b9-2e929f8223d2",
   "metadata": {},
   "outputs": [],
   "source": [
    "\n",
    "SRATE = 100\n",
    "vals = vitaldb.load_case(1, Hemodynamic_Parameters, 1 / SRATE)"
   ]
  },
  {
   "cell_type": "code",
   "execution_count": 5,
   "id": "8a0a2a9c-29e3-4a29-87e6-48e49827197a",
   "metadata": {},
   "outputs": [
    {
     "data": {
      "application/vnd.jupyter.widget-view+json": {
       "model_id": "4f56496b13f24f55b9e288f82393257d",
       "version_major": 2,
       "version_minor": 0
      },
      "text/plain": [
       "  0%|          | 0/1103281 [00:00<?, ?it/s]"
      ]
     },
     "metadata": {},
     "output_type": "display_data"
    }
   ],
   "source": [
    "MAP = []\n",
    "sec=2\n",
    "for i in tqdm(range(vals.shape[0])):\n",
    "  MAP.append([(vals[i][3] + 2 * vals[i][2])/3,sec])\n",
    "  sec=sec+2\n",
    "\n",
    "new_vals = np.append(vals, MAP ,axis = 1)\n",
    "     "
   ]
  },
  {
   "cell_type": "code",
   "execution_count": 12,
   "id": "f0a969aa-d36e-4662-98bd-bdfd7ac0373d",
   "metadata": {},
   "outputs": [
    {
     "name": "stdout",
     "output_type": "stream",
     "text": [
      "Collecting cupy-cuda11x\n",
      "  Obtaining dependency information for cupy-cuda11x from https://files.pythonhosted.org/packages/cc/a8/99d1fd15d73fe0252c60b39c7e775d3d239e29e3eb298cfeceb32c57404d/cupy_cuda11x-12.1.0-cp39-cp39-win_amd64.whl.metadata\n",
      "  Downloading cupy_cuda11x-12.1.0-cp39-cp39-win_amd64.whl.metadata (2.7 kB)\n",
      "Requirement already satisfied: numpy<1.27,>=1.20 in c:\\users\\razer\\anaconda3\\lib\\site-packages (from cupy-cuda11x) (1.23.2)\n",
      "Requirement already satisfied: fastrlock>=0.5 in c:\\users\\razer\\anaconda3\\lib\\site-packages (from cupy-cuda11x) (0.8.1)\n",
      "Downloading cupy_cuda11x-12.1.0-cp39-cp39-win_amd64.whl (70.1 MB)\n",
      "   ---------------------------------------- 70.1/70.1 MB 389.8 kB/s eta 0:00:00\n",
      "Installing collected packages: cupy-cuda11x\n",
      "Successfully installed cupy-cuda11x-12.1.0\n"
     ]
    }
   ],
   "source": [
    "!pip install cupy-cuda11x"
   ]
  },
  {
   "cell_type": "code",
   "execution_count": 8,
   "id": "88627286-6306-4c1f-9384-89a618579a64",
   "metadata": {},
   "outputs": [
    {
     "ename": "ModuleNotFoundError",
     "evalue": "No module named 'cupy'",
     "output_type": "error",
     "traceback": [
      "\u001b[1;31m---------------------------------------------------------------------------\u001b[0m",
      "\u001b[1;31mModuleNotFoundError\u001b[0m                       Traceback (most recent call last)",
      "\u001b[1;32m~\\AppData\\Local\\Temp\\ipykernel_40344\\3722989392.py\u001b[0m in \u001b[0;36m<module>\u001b[1;34m\u001b[0m\n\u001b[1;32m----> 1\u001b[1;33m \u001b[1;32mimport\u001b[0m \u001b[0mcupy\u001b[0m \u001b[1;32mas\u001b[0m \u001b[0mcp\u001b[0m\u001b[1;33m\u001b[0m\u001b[1;33m\u001b[0m\u001b[0m\n\u001b[0m\u001b[0;32m      2\u001b[0m \u001b[0mvals_gpu\u001b[0m \u001b[1;33m=\u001b[0m \u001b[0mcp\u001b[0m\u001b[1;33m.\u001b[0m\u001b[0masarray\u001b[0m\u001b[1;33m(\u001b[0m\u001b[0mvals\u001b[0m\u001b[1;33m)\u001b[0m\u001b[1;33m\u001b[0m\u001b[1;33m\u001b[0m\u001b[0m\n",
      "\u001b[1;31mModuleNotFoundError\u001b[0m: No module named 'cupy'"
     ]
    }
   ],
   "source": [
    "import cupy as cp\n",
    "vals_gpu = cp.asarray(vals)"
   ]
  },
  {
   "cell_type": "code",
   "execution_count": null,
   "id": "a22eb1d9-8369-4b7c-bd06-1eacaf94320c",
   "metadata": {},
   "outputs": [],
   "source": []
  },
  {
   "cell_type": "code",
   "execution_count": null,
   "id": "2d0bbde6-cac2-44ff-b392-e00de2305640",
   "metadata": {},
   "outputs": [],
   "source": []
  },
  {
   "cell_type": "code",
   "execution_count": null,
   "id": "105223ce-347f-4d91-b50d-92b0c161cb4c",
   "metadata": {},
   "outputs": [],
   "source": []
  },
  {
   "cell_type": "code",
   "execution_count": null,
   "id": "4772cb7c-1ffd-4d0c-af86-64beca6b65bc",
   "metadata": {},
   "outputs": [],
   "source": []
  }
 ],
 "metadata": {
  "kernelspec": {
   "display_name": "Python 3 (ipykernel)",
   "language": "python",
   "name": "python3"
  },
  "language_info": {
   "codemirror_mode": {
    "name": "ipython",
    "version": 3
   },
   "file_extension": ".py",
   "mimetype": "text/x-python",
   "name": "python",
   "nbconvert_exporter": "python",
   "pygments_lexer": "ipython3",
   "version": "3.9.15"
  }
 },
 "nbformat": 4,
 "nbformat_minor": 5
}
